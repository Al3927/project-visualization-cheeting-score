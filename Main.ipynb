{
 "cells": [
  {
   "cell_type": "markdown",
   "metadata": {},
   "source": [
    "# Đồ Án Khám Phá Gian Lận Điểm Thi THPT QG 2018"
   ]
  },
  {
   "cell_type": "markdown",
   "metadata": {},
   "source": [
    "## THÔNG TIN THÀNH VIÊN\n",
    "\n",
    "| MSSV | HỌ VÀ TÊN |\n",
    "|:------:|:--------:|\n",
    "|18120184 |\tNguyễn Nguyên Khang |\n",
    "|18120210 | Phạm Tống Bình Minh |\n",
    "|18120237 | Bạch Tăng Thắng |\n",
    "|18120264 | Nguyễn Duy Vũ |\n",
    "|18120283 | Nguyễn Chiêu Bản |"
   ]
  },
  {
   "cell_type": "markdown",
   "metadata": {},
   "source": [
    "## Mục Lục\n",
    "- [import](#import)\n",
    "- [Đọc dữ liệu](#Đọc-dữ-liệu)\n",
    "- [Khám phá dữ liệu Và Tiền xử lý](#Khám-phá-dữ-liệu-Và-Tiền-xử-lý)\n",
    "    - [Xử lý kiểu dữ liệu cột](#Xử-lý-kiểu-dữ-liệu-cột)\n",
    "    - [Xử lý dữ liệu trùng nhau](#Xử-lý-dữ-liệu-trùng-nhau)\n",
    "    - [Thêm cụm thi](#Thêm-cụm-thi)\n",
    "    - [Phân bố điểm của cả nước](#Phân-bố-điểm-của-cả-nước)\n",
    "- [Phân tích gian lận](#Phân-tích-gian-lận)\n",
    "    - [Phân bố điểm của cụm thi Hà Giang](#Phân-bố-điểm-của-cụm-thi-Hà-Giang)\n",
    "    - [Phân bố điểm của cụm thi Hà Nội](#Phân-bố-điểm-của-cụm-thi-Hà-Nội)\n",
    "    - [Phân bố điểm của cụm thi TP. Hồ Chí Minh](#Phân-bố-điểm-của-cụm-thi-TP.-Hồ-Chí-Minh)\n",
    "    - [So Sánh Điểm Toán](#So-Sánh-Điểm-Toán)\n",
    "    - [Các biểu đồ chỉ ra sự gian lận](#Ta-thử-vẽ-biểu-đồ:)\n",
    "        - [Phần Trăm Điểm Toán Trên 9.0](#Phần-Trăm-Điểm-Toán-Trên-9.0)\n",
    "        - [Phần Trăm Điểm Toán Cụm Hà Giang Và Cả Nước](#Phần-Trăm-Điểm-Toán-Trên-9.0)\n",
    "        - [Phần Trăm Điểm Các Khối Trên 27](#Phần-Trăm-Điểm-Các-Khối-Trên-27)\n",
    "        "
   ]
  },
  {
   "cell_type": "markdown",
   "metadata": {},
   "source": [
    "## import"
   ]
  },
  {
   "cell_type": "code",
   "execution_count": 1,
   "metadata": {},
   "outputs": [],
   "source": [
    "import pandas as pd\n",
    "import numpy as np\n",
    "import matplotlib.pyplot as plt \n",
    "from  matplotlib.ticker import PercentFormatter\n",
    "import seaborn as sns"
   ]
  },
  {
   "cell_type": "code",
   "execution_count": 2,
   "metadata": {},
   "outputs": [],
   "source": [
    "#Set Option\n",
    "pd.set_option('max_colwidth', 10000)\n",
    "pd.set_option('display.max_rows', 500)\n",
    "pd.set_option('display.max_columns', 500)\n",
    "pd.set_option('display.width', 1000)\n",
    "sns.set_theme()"
   ]
  },
  {
   "cell_type": "markdown",
   "metadata": {},
   "source": [
    "## Đọc dữ liệu"
   ]
  },
  {
   "cell_type": "markdown",
   "metadata": {},
   "source": [
    "Nếu chưa gom file ta bỏ comment cell dưới"
   ]
  },
  {
   "cell_type": "code",
   "execution_count": 3,
   "metadata": {},
   "outputs": [],
   "source": [
    "df = pd.DataFrame()\n",
    "for i in range(1,64):\n",
    "    df = df.append(pd.read_csv(f'Data/{i}.csv'),ignore_index = True, sort= False)\n"
   ]
  },
  {
   "cell_type": "code",
   "execution_count": 138,
   "metadata": {},
   "outputs": [],
   "source": [
    "df_HaGiang = pd.read_csv('Data/4.csv')\n",
    "df_HaNoi = pd.read_csv('Data/1.csv')\n",
    "df_HCM = pd.read_csv('Data/2.csv')"
   ]
  },
  {
   "cell_type": "code",
   "execution_count": 4,
   "metadata": {},
   "outputs": [],
   "source": [
    "# df = pd.read_csv('Data/fullData.csv')"
   ]
  },
  {
   "cell_type": "markdown",
   "metadata": {},
   "source": [
    "## Khám phá dữ liệu Và Tiền xử lý"
   ]
  },
  {
   "cell_type": "code",
   "execution_count": 5,
   "metadata": {},
   "outputs": [
    {
     "data": {
      "text/html": [
       "<div>\n",
       "<style scoped>\n",
       "    .dataframe tbody tr th:only-of-type {\n",
       "        vertical-align: middle;\n",
       "    }\n",
       "\n",
       "    .dataframe tbody tr th {\n",
       "        vertical-align: top;\n",
       "    }\n",
       "\n",
       "    .dataframe thead th {\n",
       "        text-align: right;\n",
       "    }\n",
       "</style>\n",
       "<table border=\"1\" class=\"dataframe\">\n",
       "  <thead>\n",
       "    <tr style=\"text-align: right;\">\n",
       "      <th></th>\n",
       "      <th>SBD</th>\n",
       "      <th>TOÁN</th>\n",
       "      <th>VĂN</th>\n",
       "      <th>LÝ</th>\n",
       "      <th>HÓA</th>\n",
       "      <th>SINH</th>\n",
       "      <th>SỬ</th>\n",
       "      <th>ĐỊA</th>\n",
       "      <th>GDCD</th>\n",
       "      <th>ANH</th>\n",
       "      <th>KHTN</th>\n",
       "      <th>KHXH</th>\n",
       "      <th>KHỐI A</th>\n",
       "      <th>KHỐI B</th>\n",
       "      <th>KHỐI C</th>\n",
       "      <th>KHỐI D</th>\n",
       "      <th>KHỐI A1</th>\n",
       "    </tr>\n",
       "  </thead>\n",
       "  <tbody>\n",
       "    <tr>\n",
       "      <th>0</th>\n",
       "      <td>1063438</td>\n",
       "      <td>3.0</td>\n",
       "      <td>3.5</td>\n",
       "      <td>2.75</td>\n",
       "      <td>3.25</td>\n",
       "      <td>2.75</td>\n",
       "      <td>2.50</td>\n",
       "      <td>5.50</td>\n",
       "      <td>5.50</td>\n",
       "      <td>2.6</td>\n",
       "      <td>2.92</td>\n",
       "      <td>4.50</td>\n",
       "      <td>9.0</td>\n",
       "      <td>9.00</td>\n",
       "      <td>11.50</td>\n",
       "      <td>9.1</td>\n",
       "      <td>8.35</td>\n",
       "    </tr>\n",
       "    <tr>\n",
       "      <th>1</th>\n",
       "      <td>1063463</td>\n",
       "      <td>4.0</td>\n",
       "      <td>3.0</td>\n",
       "      <td>2.75</td>\n",
       "      <td>3.75</td>\n",
       "      <td>4.50</td>\n",
       "      <td>1.50</td>\n",
       "      <td>5.00</td>\n",
       "      <td>5.75</td>\n",
       "      <td>3.0</td>\n",
       "      <td>3.67</td>\n",
       "      <td>4.08</td>\n",
       "      <td>10.5</td>\n",
       "      <td>12.25</td>\n",
       "      <td>9.50</td>\n",
       "      <td>10</td>\n",
       "      <td>9.75</td>\n",
       "    </tr>\n",
       "    <tr>\n",
       "      <th>2</th>\n",
       "      <td>1063464</td>\n",
       "      <td>5.0</td>\n",
       "      <td>3.0</td>\n",
       "      <td>3.75</td>\n",
       "      <td>2.25</td>\n",
       "      <td>3.50</td>\n",
       "      <td>3.50</td>\n",
       "      <td>5.75</td>\n",
       "      <td>5.75</td>\n",
       "      <td>3.0</td>\n",
       "      <td>3.17</td>\n",
       "      <td>5.00</td>\n",
       "      <td>11.0</td>\n",
       "      <td>10.75</td>\n",
       "      <td>12.25</td>\n",
       "      <td>11</td>\n",
       "      <td>11.75</td>\n",
       "    </tr>\n",
       "    <tr>\n",
       "      <th>3</th>\n",
       "      <td>1063470</td>\n",
       "      <td>2.6</td>\n",
       "      <td>4.5</td>\n",
       "      <td>2.00</td>\n",
       "      <td>3.50</td>\n",
       "      <td>3.25</td>\n",
       "      <td>1.75</td>\n",
       "      <td>4.25</td>\n",
       "      <td>6.25</td>\n",
       "      <td>3.0</td>\n",
       "      <td>2.92</td>\n",
       "      <td>4.08</td>\n",
       "      <td>8.1</td>\n",
       "      <td>9.35</td>\n",
       "      <td>10.50</td>\n",
       "      <td>10.1</td>\n",
       "      <td>7.60</td>\n",
       "    </tr>\n",
       "    <tr>\n",
       "      <th>4</th>\n",
       "      <td>1063477</td>\n",
       "      <td>3.2</td>\n",
       "      <td>5.0</td>\n",
       "      <td>2.00</td>\n",
       "      <td>3.00</td>\n",
       "      <td>3.00</td>\n",
       "      <td>2.50</td>\n",
       "      <td>4.00</td>\n",
       "      <td>7.00</td>\n",
       "      <td>3.4</td>\n",
       "      <td>2.67</td>\n",
       "      <td>4.50</td>\n",
       "      <td>8.2</td>\n",
       "      <td>9.20</td>\n",
       "      <td>11.50</td>\n",
       "      <td>11.6</td>\n",
       "      <td>8.60</td>\n",
       "    </tr>\n",
       "  </tbody>\n",
       "</table>\n",
       "</div>"
      ],
      "text/plain": [
       "       SBD  TOÁN  VĂN    LÝ   HÓA  SINH    SỬ   ĐỊA  GDCD  ANH  KHTN  KHXH  KHỐI A  KHỐI B  KHỐI C KHỐI D  KHỐI A1\n",
       "0  1063438   3.0  3.5  2.75  3.25  2.75  2.50  5.50  5.50  2.6  2.92  4.50     9.0    9.00   11.50    9.1     8.35\n",
       "1  1063463   4.0  3.0  2.75  3.75  4.50  1.50  5.00  5.75  3.0  3.67  4.08    10.5   12.25    9.50     10     9.75\n",
       "2  1063464   5.0  3.0  3.75  2.25  3.50  3.50  5.75  5.75  3.0  3.17  5.00    11.0   10.75   12.25     11    11.75\n",
       "3  1063470   2.6  4.5  2.00  3.50  3.25  1.75  4.25  6.25  3.0  2.92  4.08     8.1    9.35   10.50   10.1     7.60\n",
       "4  1063477   3.2  5.0  2.00  3.00  3.00  2.50  4.00  7.00  3.4  2.67  4.50     8.2    9.20   11.50   11.6     8.60"
      ]
     },
     "execution_count": 5,
     "metadata": {},
     "output_type": "execute_result"
    }
   ],
   "source": [
    "df.head()"
   ]
  },
  {
   "cell_type": "code",
   "execution_count": 6,
   "metadata": {},
   "outputs": [
    {
     "name": "stdout",
     "output_type": "stream",
     "text": [
      "(844122, 17)\n",
      "<class 'pandas.core.frame.DataFrame'>\n",
      "RangeIndex: 844122 entries, 0 to 844121\n",
      "Data columns (total 17 columns):\n",
      " #   Column   Non-Null Count   Dtype  \n",
      "---  ------   --------------   -----  \n",
      " 0   SBD      844122 non-null  int64  \n",
      " 1   TOÁN     840264 non-null  float64\n",
      " 2   VĂN      826061 non-null  float64\n",
      " 3   LÝ       361908 non-null  float64\n",
      " 4   HÓA      365827 non-null  float64\n",
      " 5   SINH     357544 non-null  float64\n",
      " 6   SỬ       512711 non-null  float64\n",
      " 7   ĐỊA      497523 non-null  float64\n",
      " 8   GDCD     434021 non-null  float64\n",
      " 9   ANH      745755 non-null  float64\n",
      " 10  KHTN     352736 non-null  float64\n",
      " 11  KHXH     428493 non-null  float64\n",
      " 12  KHỐI A   359525 non-null  float64\n",
      " 13  KHỐI B   357439 non-null  float64\n",
      " 14  KHỐI C   496866 non-null  float64\n",
      " 15  KHỐI D   741766 non-null  object \n",
      " 16  KHỐI A1  344135 non-null  float64\n",
      "dtypes: float64(15), int64(1), object(1)\n",
      "memory usage: 109.5+ MB\n",
      "None\n"
     ]
    }
   ],
   "source": [
    "#Xem kích thước dữ liệu và kiểu dữ liệu của từng cột\n",
    "print(df.shape)\n",
    "print(df.info())"
   ]
  },
  {
   "cell_type": "markdown",
   "metadata": {},
   "source": [
    "### Xử lý kiểu dữ liệu cột"
   ]
  },
  {
   "cell_type": "code",
   "execution_count": 102,
   "metadata": {},
   "outputs": [
    {
     "data": {
      "text/plain": [
       "array([nan])"
      ]
     },
     "execution_count": 102,
     "metadata": {},
     "output_type": "execute_result"
    }
   ],
   "source": [
    "# Kiểm tra cột KHỐI D có kiểu Object\n",
    "\n",
    "# for iii in df['KHỐI D'].unique():\n",
    "#     print(iii)\n",
    "df[df['KHỐI D'] == '#VALUE!']['TOÁN'].unique()\n",
    "#Khối D gồm toán văn anh, kiểm tra thấy các thí sinh khối D có giá trị lạ: #VALUE! thì toán là giá trị rỗng, \n",
    "#vậy ta có thể đổi các giá trị này thành nan"
   ]
  },
  {
   "cell_type": "code",
   "execution_count": 139,
   "metadata": {},
   "outputs": [],
   "source": [
    "def convert_col_dtype(col):\n",
    "    return float(col)"
   ]
  },
  {
   "cell_type": "code",
   "execution_count": 140,
   "metadata": {},
   "outputs": [],
   "source": [
    "df['KHỐI D'] = df['KHỐI D'].replace('#VALUE!',np.nan)\n",
    "df['KHỐI D'] = df['KHỐI D'].apply(convert_col_dtype)"
   ]
  },
  {
   "cell_type": "code",
   "execution_count": 141,
   "metadata": {},
   "outputs": [],
   "source": [
    "df_HaNoi['KHỐI D'] = df_HaNoi['KHỐI D'].replace('#VALUE!',np.nan)\n",
    "df_HaNoi['KHỐI D'] = df_HaNoi['KHỐI D'].apply(convert_col_dtype)\n",
    "df_HCM['KHỐI D'] = df_HCM['KHỐI D'].replace('#VALUE!',np.nan)\n",
    "df_HCM['KHỐI D'] = df_HCM['KHỐI D'].apply(convert_col_dtype)"
   ]
  },
  {
   "cell_type": "markdown",
   "metadata": {},
   "source": [
    "### Xử lý dữ liệu trùng nhau"
   ]
  },
  {
   "cell_type": "code",
   "execution_count": 7,
   "metadata": {},
   "outputs": [
    {
     "name": "stdout",
     "output_type": "stream",
     "text": [
      "SBD\n",
      "40000001    2\n",
      "40000002    2\n",
      "40000003    2\n",
      "40000004    2\n",
      "40000005    2\n",
      "           ..\n",
      "40022184    2\n",
      "40022185    2\n",
      "40022186    2\n",
      "40022187    2\n",
      "40022188    2\n",
      "Length: 22035, dtype: int64\n"
     ]
    }
   ],
   "source": [
    "#Xem các dữ liệu có trùng nhau không\n",
    "dups = df.pivot_table(index = ['SBD'], aggfunc ='size')\n",
    "print(dups[dups>1])"
   ]
  },
  {
   "cell_type": "code",
   "execution_count": 8,
   "metadata": {},
   "outputs": [
    {
     "data": {
      "text/html": [
       "<div>\n",
       "<style scoped>\n",
       "    .dataframe tbody tr th:only-of-type {\n",
       "        vertical-align: middle;\n",
       "    }\n",
       "\n",
       "    .dataframe tbody tr th {\n",
       "        vertical-align: top;\n",
       "    }\n",
       "\n",
       "    .dataframe thead th {\n",
       "        text-align: right;\n",
       "    }\n",
       "</style>\n",
       "<table border=\"1\" class=\"dataframe\">\n",
       "  <thead>\n",
       "    <tr style=\"text-align: right;\">\n",
       "      <th></th>\n",
       "      <th>SBD</th>\n",
       "      <th>TOÁN</th>\n",
       "      <th>VĂN</th>\n",
       "      <th>LÝ</th>\n",
       "      <th>HÓA</th>\n",
       "      <th>SINH</th>\n",
       "      <th>SỬ</th>\n",
       "      <th>ĐỊA</th>\n",
       "      <th>GDCD</th>\n",
       "      <th>ANH</th>\n",
       "      <th>KHTN</th>\n",
       "      <th>KHXH</th>\n",
       "      <th>KHỐI A</th>\n",
       "      <th>KHỐI B</th>\n",
       "      <th>KHỐI C</th>\n",
       "      <th>KHỐI D</th>\n",
       "      <th>KHỐI A1</th>\n",
       "    </tr>\n",
       "  </thead>\n",
       "  <tbody>\n",
       "    <tr>\n",
       "      <th>246856</th>\n",
       "      <td>40000005</td>\n",
       "      <td>6.0</td>\n",
       "      <td>6.0</td>\n",
       "      <td>NaN</td>\n",
       "      <td>NaN</td>\n",
       "      <td>NaN</td>\n",
       "      <td>3.75</td>\n",
       "      <td>6.25</td>\n",
       "      <td>8.25</td>\n",
       "      <td>6.2</td>\n",
       "      <td>NaN</td>\n",
       "      <td>6.08</td>\n",
       "      <td>NaN</td>\n",
       "      <td>NaN</td>\n",
       "      <td>16.0</td>\n",
       "      <td>18.2</td>\n",
       "      <td>NaN</td>\n",
       "    </tr>\n",
       "    <tr>\n",
       "      <th>573528</th>\n",
       "      <td>40000005</td>\n",
       "      <td>6.0</td>\n",
       "      <td>6.0</td>\n",
       "      <td>NaN</td>\n",
       "      <td>NaN</td>\n",
       "      <td>NaN</td>\n",
       "      <td>3.75</td>\n",
       "      <td>6.25</td>\n",
       "      <td>8.25</td>\n",
       "      <td>6.2</td>\n",
       "      <td>NaN</td>\n",
       "      <td>6.08</td>\n",
       "      <td>NaN</td>\n",
       "      <td>NaN</td>\n",
       "      <td>16.0</td>\n",
       "      <td>18.2</td>\n",
       "      <td>NaN</td>\n",
       "    </tr>\n",
       "  </tbody>\n",
       "</table>\n",
       "</div>"
      ],
      "text/plain": [
       "             SBD  TOÁN  VĂN  LÝ  HÓA  SINH    SỬ   ĐỊA  GDCD  ANH  KHTN  KHXH  KHỐI A  KHỐI B  KHỐI C KHỐI D  KHỐI A1\n",
       "246856  40000005   6.0  6.0 NaN  NaN   NaN  3.75  6.25  8.25  6.2   NaN  6.08     NaN     NaN    16.0   18.2      NaN\n",
       "573528  40000005   6.0  6.0 NaN  NaN   NaN  3.75  6.25  8.25  6.2   NaN  6.08     NaN     NaN    16.0   18.2      NaN"
      ]
     },
     "execution_count": 8,
     "metadata": {},
     "output_type": "execute_result"
    }
   ],
   "source": [
    "# Xem 1 dòng dữ liệu trùng nhau\n",
    "df[df['SBD'] == 40000005] "
   ]
  },
  {
   "cell_type": "code",
   "execution_count": 9,
   "metadata": {},
   "outputs": [],
   "source": [
    "# Xóa dữ liệu trùng nhau (dữ liệu trùng nhau gây ra bởi file 14.csv)\n",
    "df.drop_duplicates(inplace=True)"
   ]
  },
  {
   "cell_type": "markdown",
   "metadata": {},
   "source": [
    "### Thêm cụm thi"
   ]
  },
  {
   "cell_type": "code",
   "execution_count": 10,
   "metadata": {},
   "outputs": [],
   "source": [
    "# Thêm cụm thi vào dataframe\n",
    "dict_cumthi = {1: \"Hà Nội\",2: \"TP. Hồ Chí Minh\",3: \"Hải Phòng\",4: \"Đà Nẵng\",5: \"Hà Giang\",6: \"Cao Bằng\",7: \"Lai Châu\",8: \"Lào Cai\",9: \"Tuyên Quang\",10: \"Lạng Sơn\",11: \"Bắc Kạn\",12: \"Thái Nguyên\",13: \"Yên Bái\",14: \"Sơn La\",15: \"Phú Thọ\",16: \"Vĩnh Phúc\",17: \"Quảng Ninh\",18: \"Bắc Giang\",19: \"Bắc Ninh\",21: \"Hải Dương\",22: \"Hưng Yên\",23: \"Hoà Bình\",24: \"Hà Nam\",25: \"Nam Định\",26: \"Thái Bình\",27: \"Ninh Bình\",28: \"Thanh Hoá\",29: \"Nghệ An\",30: \"Hà Tĩnh\",31: \"Quảng Bình\",32: \"Quảng Trị\",33: \"Thừa Thiên -Huế\",34: \"Quảng Nam\",35: \"Quảng Ngãi\",36: \"Kon Tum\",37: \"Bình Định\",38: \"Gia Lai\",39: \"Phú Yên\",40: \"Đắk Lắk\",41: \"Khánh Hoà\",42: \"Lâm Đồng\",43: \"Bình Phước\",44: \"Bình Dương\",45: \"Ninh Thuận\",46: \"Tây Ninh\",47: \"Bình Thuận\",48: \"Đồng Nai\",49: \"Long An\",50: \"Đồng Tháp\",51: \"An Giang\",52: \"Bà Rịa-Vũng Tàu\",53: \"Tiền Giang\",54: \"Kiên Giang\",55: \"Cần Thơ\",56: \"Bến Tre\",57: \"Vĩnh Long\",58: \"Trà Vinh\",59: \"Sóc Trăng\",60: \"Bạc Liêu\",61: \"Cà Mau\",62: \"Điện Biên\",63: \"Đăk Nông\",64: \"Hậu Giang\",65: \"Cục Nhà trường - Bộ Quốc phòng\"}\n",
    "df[\"CỤM\"] = df[\"SBD\"].apply(lambda x: dict_cumthi[int(x/1_000_000)])"
   ]
  },
  {
   "cell_type": "code",
   "execution_count": 11,
   "metadata": {},
   "outputs": [
    {
     "data": {
      "text/plain": [
       "CỤM\n",
       "An Giang           16359\n",
       "Bà Rịa-Vũng Tàu    11846\n",
       "Bình Dương         11313\n",
       "Bình Phước         10219\n",
       "Bình Thuận         11716\n",
       "Bình Định          17785\n",
       "Bạc Liêu            5370\n",
       "Bắc Giang          19612\n",
       "Bắc Kạn             2866\n",
       "Bắc Ninh           14815\n",
       "Bến Tre            11740\n",
       "Cao Bằng            4571\n",
       "Cà Mau              9275\n",
       "Cần Thơ            13068\n",
       "Gia Lai            12825\n",
       "Hoà Bình            8952\n",
       "Hà Giang            3099\n",
       "Hà Nam              8685\n",
       "Hà Nội             79092\n",
       "Hà Tĩnh            16330\n",
       "Hưng Yên           12888\n",
       "Hải Dương          19973\n",
       "Hải Phòng           5099\n",
       "Hậu Giang           6190\n",
       "Khánh Hoà          13500\n",
       "Kiên Giang         13482\n",
       "Kon Tum             4445\n",
       "Lai Châu            3232\n",
       "Long An            14065\n",
       "Lào Cai             6199\n",
       "Lâm Đồng           14985\n",
       "Lạng Sơn            9013\n",
       "Nam Định            5099\n",
       "Nghệ An              199\n",
       "Ninh Bình           9612\n",
       "Ninh Thuận          5774\n",
       "Phú Thọ            13699\n",
       "Phú Yên            10731\n",
       "Quảng Bình          9623\n",
       "Quảng Nam          17532\n",
       "Quảng Ngãi         12631\n",
       "Quảng Ninh         14690\n",
       "Quảng Trị           7889\n",
       "Sóc Trăng           9334\n",
       "TP. Hồ Chí Minh    78321\n",
       "Thanh Hoá          14099\n",
       "Thái Bình          21435\n",
       "Thái Nguyên        14449\n",
       "Thừa Thiên -Huế    12387\n",
       "Tiền Giang         14106\n",
       "Trà Vinh            8183\n",
       "Tuyên Quang         7638\n",
       "Tây Ninh            8858\n",
       "Vĩnh Long          10571\n",
       "Vĩnh Phúc          12602\n",
       "Yên Bái             7022\n",
       "Điện Biên           5481\n",
       "Đà Nẵng             6099\n",
       "Đăk Nông            6361\n",
       "Đắk Lắk            22035\n",
       "Đồng Nai           28651\n",
       "Đồng Tháp          14367\n",
       "Name: SBD, dtype: int64"
      ]
     },
     "execution_count": 11,
     "metadata": {},
     "output_type": "execute_result"
    }
   ],
   "source": [
    "# Xem số lượng thí sinh ở từng cụm\n",
    "df.groupby([\"CỤM\"])[\"SBD\"].agg('count')"
   ]
  },
  {
   "cell_type": "code",
   "execution_count": 12,
   "metadata": {},
   "outputs": [
    {
     "data": {
      "text/html": [
       "<div>\n",
       "<style scoped>\n",
       "    .dataframe tbody tr th:only-of-type {\n",
       "        vertical-align: middle;\n",
       "    }\n",
       "\n",
       "    .dataframe tbody tr th {\n",
       "        vertical-align: top;\n",
       "    }\n",
       "\n",
       "    .dataframe thead th {\n",
       "        text-align: right;\n",
       "    }\n",
       "</style>\n",
       "<table border=\"1\" class=\"dataframe\">\n",
       "  <thead>\n",
       "    <tr style=\"text-align: right;\">\n",
       "      <th></th>\n",
       "      <th>SBD</th>\n",
       "      <th>TOÁN</th>\n",
       "      <th>VĂN</th>\n",
       "      <th>LÝ</th>\n",
       "      <th>HÓA</th>\n",
       "      <th>SINH</th>\n",
       "      <th>SỬ</th>\n",
       "      <th>ĐỊA</th>\n",
       "      <th>GDCD</th>\n",
       "      <th>ANH</th>\n",
       "      <th>KHTN</th>\n",
       "      <th>KHXH</th>\n",
       "      <th>KHỐI A</th>\n",
       "      <th>KHỐI B</th>\n",
       "      <th>KHỐI C</th>\n",
       "      <th>KHỐI D</th>\n",
       "      <th>KHỐI A1</th>\n",
       "      <th>CỤM</th>\n",
       "    </tr>\n",
       "  </thead>\n",
       "  <tbody>\n",
       "    <tr>\n",
       "      <th>0</th>\n",
       "      <td>1063438</td>\n",
       "      <td>3.0</td>\n",
       "      <td>3.50</td>\n",
       "      <td>2.75</td>\n",
       "      <td>3.25</td>\n",
       "      <td>2.75</td>\n",
       "      <td>2.50</td>\n",
       "      <td>5.50</td>\n",
       "      <td>5.50</td>\n",
       "      <td>2.6</td>\n",
       "      <td>2.92</td>\n",
       "      <td>4.50</td>\n",
       "      <td>9.00</td>\n",
       "      <td>9.00</td>\n",
       "      <td>11.50</td>\n",
       "      <td>9.1</td>\n",
       "      <td>8.35</td>\n",
       "      <td>Hà Nội</td>\n",
       "    </tr>\n",
       "    <tr>\n",
       "      <th>1</th>\n",
       "      <td>1063463</td>\n",
       "      <td>4.0</td>\n",
       "      <td>3.00</td>\n",
       "      <td>2.75</td>\n",
       "      <td>3.75</td>\n",
       "      <td>4.50</td>\n",
       "      <td>1.50</td>\n",
       "      <td>5.00</td>\n",
       "      <td>5.75</td>\n",
       "      <td>3.0</td>\n",
       "      <td>3.67</td>\n",
       "      <td>4.08</td>\n",
       "      <td>10.50</td>\n",
       "      <td>12.25</td>\n",
       "      <td>9.50</td>\n",
       "      <td>10</td>\n",
       "      <td>9.75</td>\n",
       "      <td>Hà Nội</td>\n",
       "    </tr>\n",
       "    <tr>\n",
       "      <th>2</th>\n",
       "      <td>1063464</td>\n",
       "      <td>5.0</td>\n",
       "      <td>3.00</td>\n",
       "      <td>3.75</td>\n",
       "      <td>2.25</td>\n",
       "      <td>3.50</td>\n",
       "      <td>3.50</td>\n",
       "      <td>5.75</td>\n",
       "      <td>5.75</td>\n",
       "      <td>3.0</td>\n",
       "      <td>3.17</td>\n",
       "      <td>5.00</td>\n",
       "      <td>11.00</td>\n",
       "      <td>10.75</td>\n",
       "      <td>12.25</td>\n",
       "      <td>11</td>\n",
       "      <td>11.75</td>\n",
       "      <td>Hà Nội</td>\n",
       "    </tr>\n",
       "    <tr>\n",
       "      <th>3</th>\n",
       "      <td>1063470</td>\n",
       "      <td>2.6</td>\n",
       "      <td>4.50</td>\n",
       "      <td>2.00</td>\n",
       "      <td>3.50</td>\n",
       "      <td>3.25</td>\n",
       "      <td>1.75</td>\n",
       "      <td>4.25</td>\n",
       "      <td>6.25</td>\n",
       "      <td>3.0</td>\n",
       "      <td>2.92</td>\n",
       "      <td>4.08</td>\n",
       "      <td>8.10</td>\n",
       "      <td>9.35</td>\n",
       "      <td>10.50</td>\n",
       "      <td>10.1</td>\n",
       "      <td>7.60</td>\n",
       "      <td>Hà Nội</td>\n",
       "    </tr>\n",
       "    <tr>\n",
       "      <th>4</th>\n",
       "      <td>1063477</td>\n",
       "      <td>3.2</td>\n",
       "      <td>5.00</td>\n",
       "      <td>2.00</td>\n",
       "      <td>3.00</td>\n",
       "      <td>3.00</td>\n",
       "      <td>2.50</td>\n",
       "      <td>4.00</td>\n",
       "      <td>7.00</td>\n",
       "      <td>3.4</td>\n",
       "      <td>2.67</td>\n",
       "      <td>4.50</td>\n",
       "      <td>8.20</td>\n",
       "      <td>9.20</td>\n",
       "      <td>11.50</td>\n",
       "      <td>11.6</td>\n",
       "      <td>8.60</td>\n",
       "      <td>Hà Nội</td>\n",
       "    </tr>\n",
       "    <tr>\n",
       "      <th>...</th>\n",
       "      <td>...</td>\n",
       "      <td>...</td>\n",
       "      <td>...</td>\n",
       "      <td>...</td>\n",
       "      <td>...</td>\n",
       "      <td>...</td>\n",
       "      <td>...</td>\n",
       "      <td>...</td>\n",
       "      <td>...</td>\n",
       "      <td>...</td>\n",
       "      <td>...</td>\n",
       "      <td>...</td>\n",
       "      <td>...</td>\n",
       "      <td>...</td>\n",
       "      <td>...</td>\n",
       "      <td>...</td>\n",
       "      <td>...</td>\n",
       "      <td>...</td>\n",
       "    </tr>\n",
       "    <tr>\n",
       "      <th>844117</th>\n",
       "      <td>61002654</td>\n",
       "      <td>5.6</td>\n",
       "      <td>6.25</td>\n",
       "      <td>3.00</td>\n",
       "      <td>5.75</td>\n",
       "      <td>3.25</td>\n",
       "      <td>NaN</td>\n",
       "      <td>NaN</td>\n",
       "      <td>NaN</td>\n",
       "      <td>3.2</td>\n",
       "      <td>4.00</td>\n",
       "      <td>NaN</td>\n",
       "      <td>14.35</td>\n",
       "      <td>14.60</td>\n",
       "      <td>NaN</td>\n",
       "      <td>15.05</td>\n",
       "      <td>11.80</td>\n",
       "      <td>Cà Mau</td>\n",
       "    </tr>\n",
       "    <tr>\n",
       "      <th>844118</th>\n",
       "      <td>61003116</td>\n",
       "      <td>6.6</td>\n",
       "      <td>5.50</td>\n",
       "      <td>5.25</td>\n",
       "      <td>5.75</td>\n",
       "      <td>6.00</td>\n",
       "      <td>NaN</td>\n",
       "      <td>NaN</td>\n",
       "      <td>NaN</td>\n",
       "      <td>4.4</td>\n",
       "      <td>5.67</td>\n",
       "      <td>NaN</td>\n",
       "      <td>17.60</td>\n",
       "      <td>18.35</td>\n",
       "      <td>NaN</td>\n",
       "      <td>16.5</td>\n",
       "      <td>16.25</td>\n",
       "      <td>Cà Mau</td>\n",
       "    </tr>\n",
       "    <tr>\n",
       "      <th>844119</th>\n",
       "      <td>61003743</td>\n",
       "      <td>6.2</td>\n",
       "      <td>7.25</td>\n",
       "      <td>4.75</td>\n",
       "      <td>6.50</td>\n",
       "      <td>5.25</td>\n",
       "      <td>NaN</td>\n",
       "      <td>NaN</td>\n",
       "      <td>NaN</td>\n",
       "      <td>5.4</td>\n",
       "      <td>5.50</td>\n",
       "      <td>NaN</td>\n",
       "      <td>17.45</td>\n",
       "      <td>17.95</td>\n",
       "      <td>NaN</td>\n",
       "      <td>18.85</td>\n",
       "      <td>16.35</td>\n",
       "      <td>Cà Mau</td>\n",
       "    </tr>\n",
       "    <tr>\n",
       "      <th>844120</th>\n",
       "      <td>61003786</td>\n",
       "      <td>5.8</td>\n",
       "      <td>8.75</td>\n",
       "      <td>NaN</td>\n",
       "      <td>NaN</td>\n",
       "      <td>NaN</td>\n",
       "      <td>4.50</td>\n",
       "      <td>7.50</td>\n",
       "      <td>8.50</td>\n",
       "      <td>4.6</td>\n",
       "      <td>NaN</td>\n",
       "      <td>6.83</td>\n",
       "      <td>NaN</td>\n",
       "      <td>NaN</td>\n",
       "      <td>20.75</td>\n",
       "      <td>19.15</td>\n",
       "      <td>NaN</td>\n",
       "      <td>Cà Mau</td>\n",
       "    </tr>\n",
       "    <tr>\n",
       "      <th>844121</th>\n",
       "      <td>61003862</td>\n",
       "      <td>5.8</td>\n",
       "      <td>7.75</td>\n",
       "      <td>7.25</td>\n",
       "      <td>5.00</td>\n",
       "      <td>5.75</td>\n",
       "      <td>NaN</td>\n",
       "      <td>NaN</td>\n",
       "      <td>NaN</td>\n",
       "      <td>3.6</td>\n",
       "      <td>6.00</td>\n",
       "      <td>NaN</td>\n",
       "      <td>18.05</td>\n",
       "      <td>16.55</td>\n",
       "      <td>NaN</td>\n",
       "      <td>17.15</td>\n",
       "      <td>16.65</td>\n",
       "      <td>Cà Mau</td>\n",
       "    </tr>\n",
       "  </tbody>\n",
       "</table>\n",
       "<p>822087 rows × 18 columns</p>\n",
       "</div>"
      ],
      "text/plain": [
       "             SBD  TOÁN   VĂN    LÝ   HÓA  SINH    SỬ   ĐỊA  GDCD  ANH  KHTN  KHXH  KHỐI A  KHỐI B  KHỐI C KHỐI D  KHỐI A1     CỤM\n",
       "0        1063438   3.0  3.50  2.75  3.25  2.75  2.50  5.50  5.50  2.6  2.92  4.50    9.00    9.00   11.50    9.1     8.35  Hà Nội\n",
       "1        1063463   4.0  3.00  2.75  3.75  4.50  1.50  5.00  5.75  3.0  3.67  4.08   10.50   12.25    9.50     10     9.75  Hà Nội\n",
       "2        1063464   5.0  3.00  3.75  2.25  3.50  3.50  5.75  5.75  3.0  3.17  5.00   11.00   10.75   12.25     11    11.75  Hà Nội\n",
       "3        1063470   2.6  4.50  2.00  3.50  3.25  1.75  4.25  6.25  3.0  2.92  4.08    8.10    9.35   10.50   10.1     7.60  Hà Nội\n",
       "4        1063477   3.2  5.00  2.00  3.00  3.00  2.50  4.00  7.00  3.4  2.67  4.50    8.20    9.20   11.50   11.6     8.60  Hà Nội\n",
       "...          ...   ...   ...   ...   ...   ...   ...   ...   ...  ...   ...   ...     ...     ...     ...    ...      ...     ...\n",
       "844117  61002654   5.6  6.25  3.00  5.75  3.25   NaN   NaN   NaN  3.2  4.00   NaN   14.35   14.60     NaN  15.05    11.80  Cà Mau\n",
       "844118  61003116   6.6  5.50  5.25  5.75  6.00   NaN   NaN   NaN  4.4  5.67   NaN   17.60   18.35     NaN   16.5    16.25  Cà Mau\n",
       "844119  61003743   6.2  7.25  4.75  6.50  5.25   NaN   NaN   NaN  5.4  5.50   NaN   17.45   17.95     NaN  18.85    16.35  Cà Mau\n",
       "844120  61003786   5.8  8.75   NaN   NaN   NaN  4.50  7.50  8.50  4.6   NaN  6.83     NaN     NaN   20.75  19.15      NaN  Cà Mau\n",
       "844121  61003862   5.8  7.75  7.25  5.00  5.75   NaN   NaN   NaN  3.6  6.00   NaN   18.05   16.55     NaN  17.15    16.65  Cà Mau\n",
       "\n",
       "[822087 rows x 18 columns]"
      ]
     },
     "execution_count": 12,
     "metadata": {},
     "output_type": "execute_result"
    }
   ],
   "source": [
    "df"
   ]
  },
  {
   "cell_type": "code",
   "execution_count": 13,
   "metadata": {},
   "outputs": [],
   "source": [
    "# df.to_csv('fullData.csv',index = False)"
   ]
  },
  {
   "cell_type": "markdown",
   "metadata": {},
   "source": [
    "### Phân bố điểm của cả nước\n",
    "\n",
    "- Tỉ lệ % (từ 0 đến 100) các giá trị thiếu \n",
    "- Giá trị min\n",
    "- Giá trị lower quartile (phân vị 25)\n",
    "- Giá trị median (phân vị 50)\n",
    "- Giá trị upper quartile (phân vị 75)\n",
    "- Giá trị max\n",
    "\n",
    "Kết quả được lưu vào DataFrame `num_col_info_df`, trong đó: \n",
    "- Tên của các cột là tên của các cột số trong `items_df`\n",
    "- Tên của các dòng là: \"missing_ratio\", \"min\", \"lower_quartile\", \"median\", \"upper_quartile\", \"max\" "
   ]
  },
  {
   "cell_type": "code",
   "execution_count": 135,
   "metadata": {},
   "outputs": [
    {
     "data": {
      "text/html": [
       "<div>\n",
       "<style scoped>\n",
       "    .dataframe tbody tr th:only-of-type {\n",
       "        vertical-align: middle;\n",
       "    }\n",
       "\n",
       "    .dataframe tbody tr th {\n",
       "        vertical-align: top;\n",
       "    }\n",
       "\n",
       "    .dataframe thead th {\n",
       "        text-align: right;\n",
       "    }\n",
       "</style>\n",
       "<table border=\"1\" class=\"dataframe\">\n",
       "  <thead>\n",
       "    <tr style=\"text-align: right;\">\n",
       "      <th></th>\n",
       "      <th>SBD</th>\n",
       "      <th>TOÁN</th>\n",
       "      <th>VĂN</th>\n",
       "      <th>LÝ</th>\n",
       "      <th>HÓA</th>\n",
       "      <th>SINH</th>\n",
       "      <th>SỬ</th>\n",
       "      <th>ĐỊA</th>\n",
       "      <th>GDCD</th>\n",
       "      <th>ANH</th>\n",
       "      <th>KHTN</th>\n",
       "      <th>KHXH</th>\n",
       "      <th>KHỐI A</th>\n",
       "      <th>KHỐI B</th>\n",
       "      <th>KHỐI C</th>\n",
       "      <th>KHỐI D</th>\n",
       "      <th>KHỐI A1</th>\n",
       "    </tr>\n",
       "  </thead>\n",
       "  <tbody>\n",
       "    <tr>\n",
       "      <th>missing_ratio</th>\n",
       "      <td>0.0</td>\n",
       "      <td>0.5</td>\n",
       "      <td>2.1</td>\n",
       "      <td>57.2</td>\n",
       "      <td>56.7</td>\n",
       "      <td>57.7</td>\n",
       "      <td>39.2</td>\n",
       "      <td>41.0</td>\n",
       "      <td>48.5</td>\n",
       "      <td>11.6</td>\n",
       "      <td>58.3</td>\n",
       "      <td>49.2</td>\n",
       "      <td>57.5</td>\n",
       "      <td>57.7</td>\n",
       "      <td>41.1</td>\n",
       "      <td>12.1</td>\n",
       "      <td>59.3</td>\n",
       "    </tr>\n",
       "    <tr>\n",
       "      <th>min</th>\n",
       "      <td>1000019.0</td>\n",
       "      <td>0.0</td>\n",
       "      <td>0.0</td>\n",
       "      <td>0.0</td>\n",
       "      <td>0.0</td>\n",
       "      <td>0.0</td>\n",
       "      <td>0.0</td>\n",
       "      <td>0.0</td>\n",
       "      <td>0.0</td>\n",
       "      <td>0.0</td>\n",
       "      <td>0.0</td>\n",
       "      <td>0.0</td>\n",
       "      <td>0.0</td>\n",
       "      <td>0.0</td>\n",
       "      <td>0.0</td>\n",
       "      <td>0.0</td>\n",
       "      <td>0.0</td>\n",
       "    </tr>\n",
       "    <tr>\n",
       "      <th>lower_quartile</th>\n",
       "      <td>12000293.5</td>\n",
       "      <td>3.8</td>\n",
       "      <td>4.5</td>\n",
       "      <td>3.8</td>\n",
       "      <td>3.8</td>\n",
       "      <td>3.8</td>\n",
       "      <td>3.0</td>\n",
       "      <td>4.8</td>\n",
       "      <td>6.5</td>\n",
       "      <td>2.8</td>\n",
       "      <td>4.0</td>\n",
       "      <td>4.8</td>\n",
       "      <td>12.8</td>\n",
       "      <td>12.8</td>\n",
       "      <td>12.2</td>\n",
       "      <td>12.0</td>\n",
       "      <td>12.5</td>\n",
       "    </tr>\n",
       "    <tr>\n",
       "      <th>median</th>\n",
       "      <td>30008007.0</td>\n",
       "      <td>5.0</td>\n",
       "      <td>5.5</td>\n",
       "      <td>5.0</td>\n",
       "      <td>4.8</td>\n",
       "      <td>4.5</td>\n",
       "      <td>3.8</td>\n",
       "      <td>5.5</td>\n",
       "      <td>7.2</td>\n",
       "      <td>3.6</td>\n",
       "      <td>4.8</td>\n",
       "      <td>5.5</td>\n",
       "      <td>15.6</td>\n",
       "      <td>15.0</td>\n",
       "      <td>14.5</td>\n",
       "      <td>14.2</td>\n",
       "      <td>14.8</td>\n",
       "    </tr>\n",
       "    <tr>\n",
       "      <th>upper_quartile</th>\n",
       "      <td>47004683.5</td>\n",
       "      <td>6.0</td>\n",
       "      <td>6.5</td>\n",
       "      <td>6.0</td>\n",
       "      <td>6.0</td>\n",
       "      <td>5.2</td>\n",
       "      <td>4.5</td>\n",
       "      <td>6.2</td>\n",
       "      <td>8.0</td>\n",
       "      <td>4.6</td>\n",
       "      <td>5.6</td>\n",
       "      <td>6.2</td>\n",
       "      <td>18.0</td>\n",
       "      <td>17.2</td>\n",
       "      <td>16.5</td>\n",
       "      <td>16.6</td>\n",
       "      <td>17.3</td>\n",
       "    </tr>\n",
       "    <tr>\n",
       "      <th>max</th>\n",
       "      <td>64006216.0</td>\n",
       "      <td>10.0</td>\n",
       "      <td>9.8</td>\n",
       "      <td>10.0</td>\n",
       "      <td>10.0</td>\n",
       "      <td>10.0</td>\n",
       "      <td>10.0</td>\n",
       "      <td>10.0</td>\n",
       "      <td>10.0</td>\n",
       "      <td>10.0</td>\n",
       "      <td>9.3</td>\n",
       "      <td>9.6</td>\n",
       "      <td>29.0</td>\n",
       "      <td>29.6</td>\n",
       "      <td>28.5</td>\n",
       "      <td>27.8</td>\n",
       "      <td>29.0</td>\n",
       "    </tr>\n",
       "  </tbody>\n",
       "</table>\n",
       "</div>"
      ],
      "text/plain": [
       "                       SBD  TOÁN  VĂN    LÝ   HÓA  SINH    SỬ   ĐỊA  GDCD   ANH  KHTN  KHXH  KHỐI A  KHỐI B  KHỐI C  KHỐI D  KHỐI A1\n",
       "missing_ratio          0.0   0.5  2.1  57.2  56.7  57.7  39.2  41.0  48.5  11.6  58.3  49.2    57.5    57.7    41.1    12.1     59.3\n",
       "min              1000019.0   0.0  0.0   0.0   0.0   0.0   0.0   0.0   0.0   0.0   0.0   0.0     0.0     0.0     0.0     0.0      0.0\n",
       "lower_quartile  12000293.5   3.8  4.5   3.8   3.8   3.8   3.0   4.8   6.5   2.8   4.0   4.8    12.8    12.8    12.2    12.0     12.5\n",
       "median          30008007.0   5.0  5.5   5.0   4.8   4.5   3.8   5.5   7.2   3.6   4.8   5.5    15.6    15.0    14.5    14.2     14.8\n",
       "upper_quartile  47004683.5   6.0  6.5   6.0   6.0   5.2   4.5   6.2   8.0   4.6   5.6   6.2    18.0    17.2    16.5    16.6     17.3\n",
       "max             64006216.0  10.0  9.8  10.0  10.0  10.0  10.0  10.0  10.0  10.0   9.3   9.6    29.0    29.6    28.5    27.8     29.0"
      ]
     },
     "execution_count": 135,
     "metadata": {},
     "output_type": "execute_result"
    }
   ],
   "source": [
    "numeric_df = df.select_dtypes(exclude='object')\n",
    "def missing_ratio(df):\n",
    "    return (df.isna().mean() * 100).round(1)\n",
    "def lower_quartile(df):\n",
    "    return df.quantile(0.25)\n",
    "def median(df):\n",
    "    return df.quantile(0.5)\n",
    "def upper_quartile(df):\n",
    "    return df.quantile(0.75)\n",
    "num_col_info_df = numeric_df.agg([missing_ratio, min, lower_quartile, median, upper_quartile, max]).round(1)\n",
    "num_col_info_df"
   ]
  },
  {
   "cell_type": "markdown",
   "metadata": {},
   "source": [
    "## Phân tích gian lận"
   ]
  },
  {
   "cell_type": "markdown",
   "metadata": {},
   "source": [
    "So sánh phần trăm các thí sinh:\n",
    "1. Đạt trên 27 điểm các khối\n",
    "2. Đạt trên 9 điểm các môn\n",
    "\n",
    "của cụm thi nghi ngờ với: \n",
    "1. Cả nước (với hy vọng không có nhiều tỉnh sửa điểm)\n",
    "2. Hai cụm có số lượng thí sinh cao nhất: Hà Nội và TP Hồ Chí Minh\n"
   ]
  },
  {
   "cell_type": "markdown",
   "metadata": {},
   "source": [
    "### Phân bố điểm của cụm thi Hà Giang"
   ]
  },
  {
   "cell_type": "code",
   "execution_count": 16,
   "metadata": {},
   "outputs": [
    {
     "data": {
      "text/html": [
       "<div>\n",
       "<style scoped>\n",
       "    .dataframe tbody tr th:only-of-type {\n",
       "        vertical-align: middle;\n",
       "    }\n",
       "\n",
       "    .dataframe tbody tr th {\n",
       "        vertical-align: top;\n",
       "    }\n",
       "\n",
       "    .dataframe thead th {\n",
       "        text-align: right;\n",
       "    }\n",
       "</style>\n",
       "<table border=\"1\" class=\"dataframe\">\n",
       "  <thead>\n",
       "    <tr style=\"text-align: right;\">\n",
       "      <th></th>\n",
       "      <th>SBD</th>\n",
       "      <th>TOÁN</th>\n",
       "      <th>VĂN</th>\n",
       "      <th>LÝ</th>\n",
       "      <th>HÓA</th>\n",
       "      <th>SINH</th>\n",
       "      <th>SỬ</th>\n",
       "      <th>ĐỊA</th>\n",
       "      <th>GDCD</th>\n",
       "      <th>ANH</th>\n",
       "      <th>KHTN</th>\n",
       "      <th>KHXH</th>\n",
       "      <th>KHỐI A</th>\n",
       "      <th>KHỐI B</th>\n",
       "      <th>KHỐI C</th>\n",
       "      <th>KHỐI D</th>\n",
       "      <th>KHỐI A1</th>\n",
       "    </tr>\n",
       "  </thead>\n",
       "  <tbody>\n",
       "    <tr>\n",
       "      <th>missing_ratio</th>\n",
       "      <td>0.0</td>\n",
       "      <td>0.3</td>\n",
       "      <td>1.7</td>\n",
       "      <td>80.8</td>\n",
       "      <td>80.9</td>\n",
       "      <td>81.6</td>\n",
       "      <td>11.8</td>\n",
       "      <td>13.4</td>\n",
       "      <td>18.1</td>\n",
       "      <td>6.8</td>\n",
       "      <td>81.9</td>\n",
       "      <td>18.1</td>\n",
       "      <td>81.3</td>\n",
       "      <td>81.6</td>\n",
       "      <td>13.6</td>\n",
       "      <td>7.6</td>\n",
       "      <td>81.5</td>\n",
       "    </tr>\n",
       "    <tr>\n",
       "      <th>min</th>\n",
       "      <td>5000001.0</td>\n",
       "      <td>1.0</td>\n",
       "      <td>0.5</td>\n",
       "      <td>1.0</td>\n",
       "      <td>0.8</td>\n",
       "      <td>1.2</td>\n",
       "      <td>0.8</td>\n",
       "      <td>0.0</td>\n",
       "      <td>1.0</td>\n",
       "      <td>0.6</td>\n",
       "      <td>1.8</td>\n",
       "      <td>1.9</td>\n",
       "      <td>4.8</td>\n",
       "      <td>5.2</td>\n",
       "      <td>3.5</td>\n",
       "      <td>4.6</td>\n",
       "      <td>5.4</td>\n",
       "    </tr>\n",
       "    <tr>\n",
       "      <th>lower_quartile</th>\n",
       "      <td>5001695.5</td>\n",
       "      <td>2.6</td>\n",
       "      <td>3.2</td>\n",
       "      <td>2.8</td>\n",
       "      <td>2.8</td>\n",
       "      <td>3.2</td>\n",
       "      <td>2.8</td>\n",
       "      <td>3.8</td>\n",
       "      <td>5.2</td>\n",
       "      <td>2.4</td>\n",
       "      <td>3.1</td>\n",
       "      <td>4.1</td>\n",
       "      <td>8.8</td>\n",
       "      <td>9.6</td>\n",
       "      <td>10.2</td>\n",
       "      <td>8.7</td>\n",
       "      <td>8.6</td>\n",
       "    </tr>\n",
       "    <tr>\n",
       "      <th>median</th>\n",
       "      <td>5002839.0</td>\n",
       "      <td>3.2</td>\n",
       "      <td>4.2</td>\n",
       "      <td>3.8</td>\n",
       "      <td>3.8</td>\n",
       "      <td>4.0</td>\n",
       "      <td>3.2</td>\n",
       "      <td>4.8</td>\n",
       "      <td>6.2</td>\n",
       "      <td>2.8</td>\n",
       "      <td>3.9</td>\n",
       "      <td>4.8</td>\n",
       "      <td>12.0</td>\n",
       "      <td>12.6</td>\n",
       "      <td>12.2</td>\n",
       "      <td>10.4</td>\n",
       "      <td>11.2</td>\n",
       "    </tr>\n",
       "    <tr>\n",
       "      <th>upper_quartile</th>\n",
       "      <td>5003971.5</td>\n",
       "      <td>4.2</td>\n",
       "      <td>5.5</td>\n",
       "      <td>5.2</td>\n",
       "      <td>5.2</td>\n",
       "      <td>4.8</td>\n",
       "      <td>4.0</td>\n",
       "      <td>5.8</td>\n",
       "      <td>7.2</td>\n",
       "      <td>3.4</td>\n",
       "      <td>4.9</td>\n",
       "      <td>5.5</td>\n",
       "      <td>16.3</td>\n",
       "      <td>15.6</td>\n",
       "      <td>14.5</td>\n",
       "      <td>12.6</td>\n",
       "      <td>15.0</td>\n",
       "    </tr>\n",
       "    <tr>\n",
       "      <th>max</th>\n",
       "      <td>5005492.0</td>\n",
       "      <td>9.6</td>\n",
       "      <td>9.0</td>\n",
       "      <td>9.8</td>\n",
       "      <td>9.8</td>\n",
       "      <td>9.5</td>\n",
       "      <td>9.8</td>\n",
       "      <td>9.0</td>\n",
       "      <td>9.8</td>\n",
       "      <td>10.0</td>\n",
       "      <td>9.3</td>\n",
       "      <td>8.4</td>\n",
       "      <td>28.4</td>\n",
       "      <td>28.0</td>\n",
       "      <td>26.5</td>\n",
       "      <td>25.4</td>\n",
       "      <td>29.0</td>\n",
       "    </tr>\n",
       "  </tbody>\n",
       "</table>\n",
       "</div>"
      ],
      "text/plain": [
       "                      SBD  TOÁN  VĂN    LÝ   HÓA  SINH    SỬ   ĐỊA  GDCD   ANH  KHTN  KHXH  KHỐI A  KHỐI B  KHỐI C  KHỐI D  KHỐI A1\n",
       "missing_ratio         0.0   0.3  1.7  80.8  80.9  81.6  11.8  13.4  18.1   6.8  81.9  18.1    81.3    81.6    13.6     7.6     81.5\n",
       "min             5000001.0   1.0  0.5   1.0   0.8   1.2   0.8   0.0   1.0   0.6   1.8   1.9     4.8     5.2     3.5     4.6      5.4\n",
       "lower_quartile  5001695.5   2.6  3.2   2.8   2.8   3.2   2.8   3.8   5.2   2.4   3.1   4.1     8.8     9.6    10.2     8.7      8.6\n",
       "median          5002839.0   3.2  4.2   3.8   3.8   4.0   3.2   4.8   6.2   2.8   3.9   4.8    12.0    12.6    12.2    10.4     11.2\n",
       "upper_quartile  5003971.5   4.2  5.5   5.2   5.2   4.8   4.0   5.8   7.2   3.4   4.9   5.5    16.3    15.6    14.5    12.6     15.0\n",
       "max             5005492.0   9.6  9.0   9.8   9.8   9.5   9.8   9.0   9.8  10.0   9.3   8.4    28.4    28.0    26.5    25.4     29.0"
      ]
     },
     "execution_count": 16,
     "metadata": {},
     "output_type": "execute_result"
    }
   ],
   "source": [
    "HG_numeric_df = df_HaGiang.select_dtypes(exclude='object')\n",
    "HG_num_col_info_df = HG_numeric_df.agg([missing_ratio, min, lower_quartile, median, upper_quartile, max]).round(1)\n",
    "HG_num_col_info_df"
   ]
  },
  {
   "cell_type": "markdown",
   "metadata": {},
   "source": [
    "### Phân bố điểm của cụm thi Hà Nội"
   ]
  },
  {
   "cell_type": "code",
   "execution_count": 142,
   "metadata": {},
   "outputs": [
    {
     "data": {
      "text/html": [
       "<div>\n",
       "<style scoped>\n",
       "    .dataframe tbody tr th:only-of-type {\n",
       "        vertical-align: middle;\n",
       "    }\n",
       "\n",
       "    .dataframe tbody tr th {\n",
       "        vertical-align: top;\n",
       "    }\n",
       "\n",
       "    .dataframe thead th {\n",
       "        text-align: right;\n",
       "    }\n",
       "</style>\n",
       "<table border=\"1\" class=\"dataframe\">\n",
       "  <thead>\n",
       "    <tr style=\"text-align: right;\">\n",
       "      <th></th>\n",
       "      <th>SBD</th>\n",
       "      <th>TOÁN</th>\n",
       "      <th>VĂN</th>\n",
       "      <th>LÝ</th>\n",
       "      <th>HÓA</th>\n",
       "      <th>SINH</th>\n",
       "      <th>SỬ</th>\n",
       "      <th>ĐỊA</th>\n",
       "      <th>GDCD</th>\n",
       "      <th>ANH</th>\n",
       "      <th>KHTN</th>\n",
       "      <th>KHXH</th>\n",
       "      <th>KHỐI A</th>\n",
       "      <th>KHỐI B</th>\n",
       "      <th>KHỐI C</th>\n",
       "      <th>KHỐI D</th>\n",
       "      <th>KHỐI A1</th>\n",
       "    </tr>\n",
       "  </thead>\n",
       "  <tbody>\n",
       "    <tr>\n",
       "      <th>missing_ratio</th>\n",
       "      <td>0.0</td>\n",
       "      <td>0.4</td>\n",
       "      <td>1.8</td>\n",
       "      <td>60.0</td>\n",
       "      <td>59.8</td>\n",
       "      <td>60.6</td>\n",
       "      <td>31.1</td>\n",
       "      <td>33.3</td>\n",
       "      <td>42.2</td>\n",
       "      <td>13.5</td>\n",
       "      <td>61.1</td>\n",
       "      <td>42.2</td>\n",
       "      <td>60.3</td>\n",
       "      <td>60.6</td>\n",
       "      <td>33.4</td>\n",
       "      <td>14.0</td>\n",
       "      <td>62.5</td>\n",
       "    </tr>\n",
       "    <tr>\n",
       "      <th>min</th>\n",
       "      <td>1000019.0</td>\n",
       "      <td>0.0</td>\n",
       "      <td>0.0</td>\n",
       "      <td>0.0</td>\n",
       "      <td>0.0</td>\n",
       "      <td>0.0</td>\n",
       "      <td>0.0</td>\n",
       "      <td>0.0</td>\n",
       "      <td>0.0</td>\n",
       "      <td>0.0</td>\n",
       "      <td>1.3</td>\n",
       "      <td>0.0</td>\n",
       "      <td>0.0</td>\n",
       "      <td>4.6</td>\n",
       "      <td>3.5</td>\n",
       "      <td>4.4</td>\n",
       "      <td>0.0</td>\n",
       "    </tr>\n",
       "    <tr>\n",
       "      <th>lower_quartile</th>\n",
       "      <td>1019909.8</td>\n",
       "      <td>4.0</td>\n",
       "      <td>4.2</td>\n",
       "      <td>3.5</td>\n",
       "      <td>3.2</td>\n",
       "      <td>3.2</td>\n",
       "      <td>3.0</td>\n",
       "      <td>4.8</td>\n",
       "      <td>6.5</td>\n",
       "      <td>3.0</td>\n",
       "      <td>3.8</td>\n",
       "      <td>4.8</td>\n",
       "      <td>12.8</td>\n",
       "      <td>12.5</td>\n",
       "      <td>12.2</td>\n",
       "      <td>12.6</td>\n",
       "      <td>12.9</td>\n",
       "    </tr>\n",
       "    <tr>\n",
       "      <th>median</th>\n",
       "      <td>1039707.5</td>\n",
       "      <td>5.2</td>\n",
       "      <td>5.5</td>\n",
       "      <td>5.0</td>\n",
       "      <td>4.5</td>\n",
       "      <td>4.0</td>\n",
       "      <td>3.5</td>\n",
       "      <td>5.5</td>\n",
       "      <td>7.2</td>\n",
       "      <td>4.0</td>\n",
       "      <td>4.7</td>\n",
       "      <td>5.4</td>\n",
       "      <td>16.0</td>\n",
       "      <td>14.9</td>\n",
       "      <td>14.8</td>\n",
       "      <td>15.2</td>\n",
       "      <td>15.8</td>\n",
       "    </tr>\n",
       "    <tr>\n",
       "      <th>upper_quartile</th>\n",
       "      <td>1059513.2</td>\n",
       "      <td>6.4</td>\n",
       "      <td>6.5</td>\n",
       "      <td>6.5</td>\n",
       "      <td>6.0</td>\n",
       "      <td>5.0</td>\n",
       "      <td>4.2</td>\n",
       "      <td>6.2</td>\n",
       "      <td>8.0</td>\n",
       "      <td>5.8</td>\n",
       "      <td>5.6</td>\n",
       "      <td>6.1</td>\n",
       "      <td>18.8</td>\n",
       "      <td>17.2</td>\n",
       "      <td>16.8</td>\n",
       "      <td>18.2</td>\n",
       "      <td>18.7</td>\n",
       "    </tr>\n",
       "    <tr>\n",
       "      <th>max</th>\n",
       "      <td>1079615.0</td>\n",
       "      <td>9.6</td>\n",
       "      <td>9.5</td>\n",
       "      <td>10.0</td>\n",
       "      <td>10.0</td>\n",
       "      <td>10.0</td>\n",
       "      <td>9.5</td>\n",
       "      <td>10.0</td>\n",
       "      <td>10.0</td>\n",
       "      <td>10.0</td>\n",
       "      <td>8.6</td>\n",
       "      <td>9.4</td>\n",
       "      <td>28.2</td>\n",
       "      <td>29.0</td>\n",
       "      <td>27.5</td>\n",
       "      <td>26.6</td>\n",
       "      <td>28.1</td>\n",
       "    </tr>\n",
       "  </tbody>\n",
       "</table>\n",
       "</div>"
      ],
      "text/plain": [
       "                      SBD  TOÁN  VĂN    LÝ   HÓA  SINH    SỬ   ĐỊA  GDCD   ANH  KHTN  KHXH  KHỐI A  KHỐI B  KHỐI C  KHỐI D  KHỐI A1\n",
       "missing_ratio         0.0   0.4  1.8  60.0  59.8  60.6  31.1  33.3  42.2  13.5  61.1  42.2    60.3    60.6    33.4    14.0     62.5\n",
       "min             1000019.0   0.0  0.0   0.0   0.0   0.0   0.0   0.0   0.0   0.0   1.3   0.0     0.0     4.6     3.5     4.4      0.0\n",
       "lower_quartile  1019909.8   4.0  4.2   3.5   3.2   3.2   3.0   4.8   6.5   3.0   3.8   4.8    12.8    12.5    12.2    12.6     12.9\n",
       "median          1039707.5   5.2  5.5   5.0   4.5   4.0   3.5   5.5   7.2   4.0   4.7   5.4    16.0    14.9    14.8    15.2     15.8\n",
       "upper_quartile  1059513.2   6.4  6.5   6.5   6.0   5.0   4.2   6.2   8.0   5.8   5.6   6.1    18.8    17.2    16.8    18.2     18.7\n",
       "max             1079615.0   9.6  9.5  10.0  10.0  10.0   9.5  10.0  10.0  10.0   8.6   9.4    28.2    29.0    27.5    26.6     28.1"
      ]
     },
     "execution_count": 142,
     "metadata": {},
     "output_type": "execute_result"
    }
   ],
   "source": [
    "HN_numeric_df = df_HaNoi.select_dtypes(exclude='object')\n",
    "HN_num_col_info_df = HN_numeric_df.agg([missing_ratio, min, lower_quartile, median, upper_quartile, max]).round(1)\n",
    "HN_num_col_info_df"
   ]
  },
  {
   "cell_type": "markdown",
   "metadata": {},
   "source": [
    "### Phân bố điểm của cụm thi TP. Hồ Chí Minh"
   ]
  },
  {
   "cell_type": "code",
   "execution_count": 143,
   "metadata": {},
   "outputs": [
    {
     "data": {
      "text/html": [
       "<div>\n",
       "<style scoped>\n",
       "    .dataframe tbody tr th:only-of-type {\n",
       "        vertical-align: middle;\n",
       "    }\n",
       "\n",
       "    .dataframe tbody tr th {\n",
       "        vertical-align: top;\n",
       "    }\n",
       "\n",
       "    .dataframe thead th {\n",
       "        text-align: right;\n",
       "    }\n",
       "</style>\n",
       "<table border=\"1\" class=\"dataframe\">\n",
       "  <thead>\n",
       "    <tr style=\"text-align: right;\">\n",
       "      <th></th>\n",
       "      <th>SBD</th>\n",
       "      <th>TOÁN</th>\n",
       "      <th>VĂN</th>\n",
       "      <th>LÝ</th>\n",
       "      <th>HÓA</th>\n",
       "      <th>SINH</th>\n",
       "      <th>SỬ</th>\n",
       "      <th>ĐỊA</th>\n",
       "      <th>GDCD</th>\n",
       "      <th>ANH</th>\n",
       "      <th>KHTN</th>\n",
       "      <th>KHXH</th>\n",
       "      <th>KHỐI A</th>\n",
       "      <th>KHỐI B</th>\n",
       "      <th>KHỐI C</th>\n",
       "      <th>KHỐI D</th>\n",
       "      <th>KHỐI A1</th>\n",
       "    </tr>\n",
       "  </thead>\n",
       "  <tbody>\n",
       "    <tr>\n",
       "      <th>missing_ratio</th>\n",
       "      <td>0.0</td>\n",
       "      <td>0.4</td>\n",
       "      <td>3.6</td>\n",
       "      <td>36.6</td>\n",
       "      <td>35.9</td>\n",
       "      <td>37.1</td>\n",
       "      <td>64.1</td>\n",
       "      <td>65.2</td>\n",
       "      <td>70.7</td>\n",
       "      <td>11.6</td>\n",
       "      <td>38.3</td>\n",
       "      <td>70.8</td>\n",
       "      <td>37.1</td>\n",
       "      <td>37.1</td>\n",
       "      <td>65.5</td>\n",
       "      <td>12.9</td>\n",
       "      <td>40.5</td>\n",
       "    </tr>\n",
       "    <tr>\n",
       "      <th>min</th>\n",
       "      <td>2000001.0</td>\n",
       "      <td>0.0</td>\n",
       "      <td>0.0</td>\n",
       "      <td>0.0</td>\n",
       "      <td>0.0</td>\n",
       "      <td>0.0</td>\n",
       "      <td>0.0</td>\n",
       "      <td>0.0</td>\n",
       "      <td>0.0</td>\n",
       "      <td>0.0</td>\n",
       "      <td>0.0</td>\n",
       "      <td>0.0</td>\n",
       "      <td>0.0</td>\n",
       "      <td>0.0</td>\n",
       "      <td>0.0</td>\n",
       "      <td>3.5</td>\n",
       "      <td>0.0</td>\n",
       "    </tr>\n",
       "    <tr>\n",
       "      <th>lower_quartile</th>\n",
       "      <td>2019582.0</td>\n",
       "      <td>4.6</td>\n",
       "      <td>4.8</td>\n",
       "      <td>4.0</td>\n",
       "      <td>4.0</td>\n",
       "      <td>3.8</td>\n",
       "      <td>3.0</td>\n",
       "      <td>4.8</td>\n",
       "      <td>7.0</td>\n",
       "      <td>3.6</td>\n",
       "      <td>4.2</td>\n",
       "      <td>5.1</td>\n",
       "      <td>13.6</td>\n",
       "      <td>13.3</td>\n",
       "      <td>13.0</td>\n",
       "      <td>14.0</td>\n",
       "      <td>13.8</td>\n",
       "    </tr>\n",
       "    <tr>\n",
       "      <th>median</th>\n",
       "      <td>2039162.0</td>\n",
       "      <td>5.4</td>\n",
       "      <td>5.5</td>\n",
       "      <td>5.0</td>\n",
       "      <td>4.8</td>\n",
       "      <td>4.5</td>\n",
       "      <td>3.8</td>\n",
       "      <td>5.5</td>\n",
       "      <td>7.5</td>\n",
       "      <td>4.8</td>\n",
       "      <td>4.8</td>\n",
       "      <td>5.7</td>\n",
       "      <td>15.6</td>\n",
       "      <td>15.1</td>\n",
       "      <td>14.8</td>\n",
       "      <td>16.0</td>\n",
       "      <td>16.0</td>\n",
       "    </tr>\n",
       "    <tr>\n",
       "      <th>upper_quartile</th>\n",
       "      <td>2058744.0</td>\n",
       "      <td>6.2</td>\n",
       "      <td>6.2</td>\n",
       "      <td>6.0</td>\n",
       "      <td>5.8</td>\n",
       "      <td>5.2</td>\n",
       "      <td>4.5</td>\n",
       "      <td>6.2</td>\n",
       "      <td>8.2</td>\n",
       "      <td>6.4</td>\n",
       "      <td>5.5</td>\n",
       "      <td>6.2</td>\n",
       "      <td>17.8</td>\n",
       "      <td>17.1</td>\n",
       "      <td>16.8</td>\n",
       "      <td>18.2</td>\n",
       "      <td>18.4</td>\n",
       "    </tr>\n",
       "    <tr>\n",
       "      <th>max</th>\n",
       "      <td>2078332.0</td>\n",
       "      <td>10.0</td>\n",
       "      <td>9.0</td>\n",
       "      <td>9.5</td>\n",
       "      <td>9.8</td>\n",
       "      <td>9.8</td>\n",
       "      <td>9.8</td>\n",
       "      <td>9.5</td>\n",
       "      <td>10.0</td>\n",
       "      <td>10.0</td>\n",
       "      <td>9.2</td>\n",
       "      <td>9.0</td>\n",
       "      <td>27.8</td>\n",
       "      <td>29.1</td>\n",
       "      <td>25.8</td>\n",
       "      <td>26.4</td>\n",
       "      <td>27.4</td>\n",
       "    </tr>\n",
       "  </tbody>\n",
       "</table>\n",
       "</div>"
      ],
      "text/plain": [
       "                      SBD  TOÁN  VĂN    LÝ   HÓA  SINH    SỬ   ĐỊA  GDCD   ANH  KHTN  KHXH  KHỐI A  KHỐI B  KHỐI C  KHỐI D  KHỐI A1\n",
       "missing_ratio         0.0   0.4  3.6  36.6  35.9  37.1  64.1  65.2  70.7  11.6  38.3  70.8    37.1    37.1    65.5    12.9     40.5\n",
       "min             2000001.0   0.0  0.0   0.0   0.0   0.0   0.0   0.0   0.0   0.0   0.0   0.0     0.0     0.0     0.0     3.5      0.0\n",
       "lower_quartile  2019582.0   4.6  4.8   4.0   4.0   3.8   3.0   4.8   7.0   3.6   4.2   5.1    13.6    13.3    13.0    14.0     13.8\n",
       "median          2039162.0   5.4  5.5   5.0   4.8   4.5   3.8   5.5   7.5   4.8   4.8   5.7    15.6    15.1    14.8    16.0     16.0\n",
       "upper_quartile  2058744.0   6.2  6.2   6.0   5.8   5.2   4.5   6.2   8.2   6.4   5.5   6.2    17.8    17.1    16.8    18.2     18.4\n",
       "max             2078332.0  10.0  9.0   9.5   9.8   9.8   9.8   9.5  10.0  10.0   9.2   9.0    27.8    29.1    25.8    26.4     27.4"
      ]
     },
     "execution_count": 143,
     "metadata": {},
     "output_type": "execute_result"
    }
   ],
   "source": [
    "HCM_numeric_df = df_HCM.select_dtypes(exclude='object')\n",
    "HCM_num_col_info_df = HCM_numeric_df.agg([missing_ratio, min, lower_quartile, median, upper_quartile, max]).round(1)\n",
    "HCM_num_col_info_df"
   ]
  },
  {
   "cell_type": "markdown",
   "metadata": {},
   "source": [
    "**Nhận xét:** Dựa vào bốn bảng [Phân bố điểm của cả nước](#Phân-bố-điểm-của-cả-nước), [Phân bố điểm của cụm thi Hà Giang](#Phân-bố-điểm-của-cụm-thi-Hà-Giang), [Phân bố điểm của cụm thi Hà Nội](#Phân-bố-điểm-của-cụm-thi-Hà-Nội), và [Phân bố điểm của cụm thi TP. Hồ Chí Minh](#Phân-bố-điểm-của-cụm-thi-TP.-Hồ-Chí-Minh) ta thấy được sức học của cụm thi Hà Giang là yếu hơn so hai cụm Hà Nội, Hồ Chí Minh và trung bình chung cả nước."
   ]
  },
  {
   "cell_type": "markdown",
   "metadata": {},
   "source": [
    "### So Sánh Điểm Toán "
   ]
  },
  {
   "cell_type": "code",
   "execution_count": 66,
   "metadata": {},
   "outputs": [],
   "source": [
    "def findPercentScoreHighgerThan(df,x,subject):\n",
    "    subjectDF = pd.DataFrame(df[subject].value_counts()/(df[subject].count()))\n",
    "    subjectDF = subjectDF.sort_index()\n",
    "    subjectDF = subjectDF[subject]\n",
    "    subjectDF = subjectDF * 100\n",
    "    i = 9.0\n",
    "    sumsubjectDF = 0\n",
    "    while i<=10:\n",
    "        try:\n",
    "            sumsubjectDF += subjectDF[np.round(i,1)]\n",
    "        except Exception as error:\n",
    "            i += 0.2\n",
    "            continue\n",
    "        i+=0.2\n",
    "    return sumsubjectDF"
   ]
  },
  {
   "cell_type": "code",
   "execution_count": 64,
   "metadata": {},
   "outputs": [
    {
     "data": {
      "text/plain": [
       "0.9711880867594692"
      ]
     },
     "execution_count": 64,
     "metadata": {},
     "output_type": "execute_result"
    }
   ],
   "source": [
    "sumHGToan = findPercentScoreHighgerThan(df_HaGiang,9,'TOÁN')\n",
    "sumHGToan"
   ]
  },
  {
   "cell_type": "code",
   "execution_count": 65,
   "metadata": {},
   "outputs": [
    {
     "data": {
      "text/plain": [
       "0.05510887362838779"
      ]
     },
     "execution_count": 65,
     "metadata": {},
     "output_type": "execute_result"
    }
   ],
   "source": [
    "sumAllToan = findPercentScoreHighgerThan(df,9,'TOÁN')\n",
    "sumAllToan"
   ]
  },
  {
   "cell_type": "code",
   "execution_count": 20,
   "metadata": {},
   "outputs": [
    {
     "data": {
      "text/plain": [
       "17.6230799654593"
      ]
     },
     "execution_count": 20,
     "metadata": {},
     "output_type": "execute_result"
    }
   ],
   "source": [
    "sumHGToan/sumAllToan"
   ]
  },
  {
   "cell_type": "markdown",
   "metadata": {},
   "source": [
    "Phần trăm điểm toán trên 9 điểm ở cụm thi Hà Giang cao gấp 17 lần so với phần trăm điểm toán trên 9 điểm của cả nước!"
   ]
  },
  {
   "cell_type": "code",
   "execution_count": 21,
   "metadata": {},
   "outputs": [
    {
     "data": {
      "text/plain": [
       "9.004056138479998"
      ]
     },
     "execution_count": 21,
     "metadata": {},
     "output_type": "execute_result"
    }
   ],
   "source": [
    "sumHNToan = findPercentScoreHighgerThan(df_HaNoi,9,'TOÁN')\n",
    "sumHGToan/sumHNToan"
   ]
  },
  {
   "cell_type": "code",
   "execution_count": 22,
   "metadata": {},
   "outputs": [
    {
     "data": {
      "text/plain": [
       "24.447310435572636"
      ]
     },
     "execution_count": 22,
     "metadata": {},
     "output_type": "execute_result"
    }
   ],
   "source": [
    "sumHCMToan = findPercentScoreHighgerThan(df_HCM,9,'TOÁN')\n",
    "sumHGToan/sumHCMToan"
   ]
  },
  {
   "cell_type": "markdown",
   "metadata": {},
   "source": [
    "Phần trăm điểm toán trên 9 điểm ở cụm thi Hà Giang cao gấp 9 lần so với phần trăm điểm toán trên 9 điểm của cụm thi Hà Nội và cao gấp 24 lần so với cụm thi Hồ Chí Minh."
   ]
  },
  {
   "cell_type": "markdown",
   "metadata": {},
   "source": [
    "### Ta thử vẽ biểu đồ:"
   ]
  },
  {
   "cell_type": "markdown",
   "metadata": {},
   "source": [
    "#### Phần Trăm Điểm Toán Trên 9.0"
   ]
  },
  {
   "cell_type": "code",
   "execution_count": 23,
   "metadata": {},
   "outputs": [],
   "source": [
    "dfArr = [df_HaGiang,df_HaNoi,df_HCM,df]\n",
    "Cum = ['Hà Giang','Hà Nội','Hồ Chí Minh','Cả Nước']\n",
    "KhoiThi = ['KHỐI A','KHỐI B','KHỐI C','KHỐI D','KHỐI A1']"
   ]
  },
  {
   "cell_type": "code",
   "execution_count": 24,
   "metadata": {},
   "outputs": [
    {
     "data": {
      "text/plain": [
       "array([0.97118809, 0.10786118, 0.03972576, 0.05510887])"
      ]
     },
     "execution_count": 24,
     "metadata": {},
     "output_type": "execute_result"
    }
   ],
   "source": [
    "MathScore = np.array([])\n",
    "for i in range(4):\n",
    "    MathScore = np.append(MathScore,np.array([findPercentScoreHighgerThan(dfArr[i],9.0,'TOÁN')]))\n",
    "MathScore"
   ]
  },
  {
   "cell_type": "code",
   "execution_count": 25,
   "metadata": {},
   "outputs": [
    {
     "data": {
      "text/plain": [
       "[Text(0.5, 0, 'Cụm Thi'), Text(0, 0.5, 'Phần Trăm (%)')]"
      ]
     },
     "execution_count": 25,
     "metadata": {},
     "output_type": "execute_result"
    },
    {
     "data": {
      "image/png": "[encoded data removed]",
      "text/plain": [
       "<Figure size 432x288 with 1 Axes>"
      ]
     },
     "metadata": {},
     "output_type": "display_data"
    }
   ],
   "source": [
    "Compare_Toan_df = pd.DataFrame(data = {'CỤM': Cum, 'Phần Trăm': MathScore})\n",
    "Compare_Toan_df\n",
    "\n",
    "g = sns.barplot(x=\"CỤM\", y= \"Phần Trăm\", palette=\"ch:.25\", data=Compare_Toan_df)\n",
    "g.set_title(\"Phần Trăm Điểm Toán Trên 9.0\")\n",
    "g.set(xlabel = \"Cụm Thi\", ylabel = \"Phần Trăm (%)\")"
   ]
  },
  {
   "cell_type": "markdown",
   "metadata": {},
   "source": [
    "**Nhận xét:** Nhìn vào biểu đồ, ta thấy rõ có sự bất ổn của điểm toán ở cụm thi Hà Giang, đồng thời ta đã nhận xét ở trên sức học của cụm thi này không vượt trội so với Hà Nội, Hồ Chí Minh, và cả nước. Tuy nhiên, để rõ ràng, ta sẽ kiểm tra thêm phổ điểm theo phần trăm của cả cụm thi so với cả nước."
   ]
  },
  {
   "cell_type": "markdown",
   "metadata": {},
   "source": [
    "#### Phần Trăm Điểm Toán Cụm Hà Giang Và Cả Nước"
   ]
  },
  {
   "cell_type": "code",
   "execution_count": 26,
   "metadata": {},
   "outputs": [],
   "source": [
    "def makePercentDF(df,subject):\n",
    "    subjectDF = pd.DataFrame(df[subject].value_counts()/(df[subject].count()))\n",
    "    subjectDF = subjectDF.sort_index()\n",
    "    subjectDF = subjectDF[subject]\n",
    "    subjectDF = pd.DataFrame(subjectDF)\n",
    "    subjectDF.reset_index(inplace=True)\n",
    "    subjectDF = subjectDF.rename(columns = {'index':'DIEM'})\n",
    "    subjectDF.columns = ['DIEM','PHAN TRAM']\n",
    "    subjectDF['PHAN TRAM'] = subjectDF['PHAN TRAM']*100\n",
    "    return subjectDF"
   ]
  },
  {
   "cell_type": "code",
   "execution_count": 27,
   "metadata": {},
   "outputs": [
    {
     "data": {
      "text/plain": [
       "100.0"
      ]
     },
     "execution_count": 27,
     "metadata": {},
     "output_type": "execute_result"
    }
   ],
   "source": [
    "HG_Math_df = makePercentDF(df_HaGiang,'TOÁN')\n",
    "All_Math_df = makePercentDF(df,'TOÁN')\n",
    "All_Math_df['PHAN TRAM'].sum()"
   ]
  },
  {
   "cell_type": "code",
   "execution_count": 28,
   "metadata": {},
   "outputs": [
    {
     "data": {
      "image/png": "[encoded data removed]",
      "text/plain": [
       "<Figure size 1152x756 with 2 Axes>"
      ]
     },
     "metadata": {},
     "output_type": "display_data"
    }
   ],
   "source": [
    "fig, axs = plt.subplots(nrows=2)\n",
    "fig.set_size_inches(16, 10.5)\n",
    "# plt.figure(figsize=(16,4))\n",
    "\n",
    "g1 = sns.barplot(x=\"DIEM\", y= \"PHAN TRAM\", palette=\"ch:.25\", data=All_Math_df,ax = axs[0])\n",
    "g1.set_title(\"Phần Trăm Điểm Toán Cả Nước\")\n",
    "g1.set(xlabel = \"Điểm Thi\", ylabel = \"Phần Trăm (%)\")\n",
    "\n",
    "g = sns.barplot(x=\"DIEM\", y= \"PHAN TRAM\", palette=\"ch:.25\", data=HG_Math_df,ax = axs[1])\n",
    "g.set_title(\"Phần Trăm Điểm Toán Cụm Hà Giang\")\n",
    "g.set(xlabel = \"Điểm Thi\", ylabel = \"Phần Trăm (%)\")\n",
    "\n",
    "plt.show()"
   ]
  },
  {
   "cell_type": "markdown",
   "metadata": {},
   "source": [
    "**Nhận xét**:\n",
    " - Ta Thấy phổ điểm Toán tính theo phần trăm của cả nước đạt cực đại ở điểm 5.4 và sau đó dần dần hạ thấp xuống, có thể thấy điều này cũng được thể hiện ở bảng [Phân bố điểm của cả nước](#Phân-bố-điểm-của-cả-nước)\n",
    " - Trong khi đó với phổ điểm Toán tính theo phần trăm cụm thi Hà Giang, cực đại ở điểm 2.6, chứng tỏ cụm thi này có sức học môn toán yếu hơn so với trung bình chung cả nước.\n",
    " - Tuy nhiên, ta lại thấy phần trăm điểm 9.0 của cụm thi này cao bất thường, thậm chí là số điểm có phần trăm cao nhất trong khoảng điểm từ 6.6 đến 9.6 của cụm, và cao hơn cả phần trăm điểm 8.4 của cả nước. "
   ]
  },
  {
   "cell_type": "markdown",
   "metadata": {},
   "source": [
    "#### Phần Trăm Điểm Các Khối Trên 27"
   ]
  },
  {
   "cell_type": "markdown",
   "metadata": {},
   "source": [
    "Ta thử vẽ phần trăm điểm của các khối A, B, C, D, A1 có trên 27 điểm."
   ]
  },
  {
   "cell_type": "code",
   "execution_count": 31,
   "metadata": {},
   "outputs": [
    {
     "data": {
      "text/plain": [
       "array([[1.07097057, 1.51004182, 1.44470943, 1.75639169, 1.54927087],\n",
       "       [1.12969751, 1.97006197, 1.79068467, 1.70815642, 1.97167795],\n",
       "       [1.84599087, 1.52490634, 1.38577017, 1.49597414, 1.42230472],\n",
       "       [1.0598043 , 1.16317088, 1.08618058, 1.45023658, 1.95526078]])"
      ]
     },
     "execution_count": 31,
     "metadata": {},
     "output_type": "execute_result"
    }
   ],
   "source": [
    "PhanTramKhoi = np.random.uniform((1*2), size = (4,5))\n",
    "PhanTramKhoi"
   ]
  },
  {
   "cell_type": "code",
   "execution_count": 124,
   "metadata": {},
   "outputs": [
    {
     "name": "stdout",
     "output_type": "stream",
     "text": [
      "   Hà Giang    Hà Nội  Hồ Chí Minh   Cả Nước     Khối\n",
      "0  2.753873  1.183244     0.509831  0.975151   KHỐI A\n",
      "1  3.157895  1.153006     0.452562  0.818182   KHỐI B\n",
      "2  5.007474  2.045463     0.990868  1.858213   KHỐI C\n",
      "3  4.294693  0.000000     0.000000  1.494482   KHỐI D\n",
      "4  2.613240  1.117186     0.506145  1.017064  KHỐI A1\n"
     ]
    }
   ],
   "source": [
    "for i in range(4):\n",
    "    for j in range(5):\n",
    "#         print(KhoiThi[j])\n",
    "        PhanTramKhoi[i][j] = findPercentScoreHighgerThan(dfArr[i],27,KhoiThi[j])\n",
    "PhanTramKhoi_df = pd.DataFrame(PhanTramKhoi.T)\n",
    "PhanTramKhoi_df.columns = Cum\n",
    "PhanTramKhoi_df['Khối'] = KhoiThi\n",
    "\n",
    "print(PhanTramKhoi_df)"
   ]
  },
  {
   "cell_type": "code",
   "execution_count": 134,
   "metadata": {},
   "outputs": [
    {
     "data": {
      "text/plain": [
       "<seaborn.axisgrid.FacetGrid at 0x17d9a5898e0>"
      ]
     },
     "execution_count": 134,
     "metadata": {},
     "output_type": "execute_result"
    },
    {
     "data": {
      "image/png": "[encoded data removed]",
      "text/plain": [
       "<Figure size 1800x360 with 5 Axes>"
      ]
     },
     "metadata": {},
     "output_type": "display_data"
    }
   ],
   "source": [
    "sns.catplot(kind = 'bar', palette=\"ch:.25\", data=PhanTramKhoi_df, col = 'Khối')\n",
    "# snd"
   ]
  },
  {
   "cell_type": "markdown",
   "metadata": {},
   "source": [
    "**Nhận xét:** Phần trăn điểm trên 27 điểm của các khối cụm thi Hà Giang cao hơn hẳn so với cả nước và hai cụm Hà Nội, TP. Hồ Chí Minh dù lực học không vượt trội hơn."
   ]
  },
  {
   "cell_type": "markdown",
   "metadata": {},
   "source": [
    "## Kết luận\n"
   ]
  },
  {
   "cell_type": "markdown",
   "metadata": {},
   "source": [
    "Từ nhận xét của ba phần sau:\n",
    "- [Phần Trăm Điểm Toán Trên 9.0](#Phần-Trăm-Điểm-Toán-Trên-9.0)\n",
    "- [Phần Trăm Điểm Toán Cụm Hà Giang Và Cả Nước](#Phần-Trăm-Điểm-Toán-Trên-9.0)\n",
    "- [Phần Trăm Điểm Các Khối Trên 27](#Phần-Trăm-Điểm-Các-Khối-Trên-27)\n",
    "\n",
    "Ta có thể kết luận: Cụm thi Hà Giang có khả năng cao gian lận điểm trong kỳ thi THPT QG 2018."
   ]
  }
 ],
 "metadata": {
  "kernelspec": {
   "display_name": "Python 3",
   "language": "python",
   "name": "python3"
  },
  "language_info": {
   "codemirror_mode": {
    "name": "ipython",
    "version": 3
   },
   "file_extension": ".py",
   "mimetype": "text/x-python",
   "name": "python",
   "nbconvert_exporter": "python",
   "pygments_lexer": "ipython3",
   "version": "3.8.5"
  }
 },
 "nbformat": 4,
 "nbformat_minor": 4
}
