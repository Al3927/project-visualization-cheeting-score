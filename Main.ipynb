{
 "cells": [
  {
   "cell_type": "markdown",
   "metadata": {},
   "source": [
    "# Đồ Án Khám Phá Gian Lận Điểm Thi THPT QG 2018"
   ]
  },
  {
   "cell_type": "markdown",
   "metadata": {},
   "source": [
    "## THÔNG TIN THÀNH VIÊN\n",
    "\n",
    "| MSSV | HỌ VÀ TÊN |\n",
    "|:------:|:--------:|\n",
    "|18120184 |\tNguyễn Nguyên Khang |\n",
    "|18120210 | Phạm Tống Bình Minh |\n",
    "|18120237 | Bạch Tăng Thắng |\n",
    "|18120264 | Nguyễn Duy Vũ |\n",
    "|18120283 | Nguyễn Chiêu Bản |"
   ]
  },
  {
   "cell_type": "markdown",
   "metadata": {},
   "source": [
    "## Mục Lục\n",
    "- [import](#import)\n",
    "- [Đọc dữ liệu](#Đọc-dữ-liệu)\n",
    "- [Khám phá dữ liệu Và Tiền xử lý](#Khám-phá-dữ-liệu-Và-Tiền-xử-lý)\n",
    "- [Phân tích gian lận](#Phân-tích-gian-lận)\n",
    "    - [So Sánh Điểm Toán](#So-Sánh-Điểm-Toán)"
   ]
  },
  {
   "cell_type": "markdown",
   "metadata": {},
   "source": [
    "## import"
   ]
  },
  {
   "cell_type": "code",
   "execution_count": 46,
   "metadata": {},
   "outputs": [],
   "source": [
    "import pandas as pd\n",
    "import numpy as np\n",
    "import matplotlib.pyplot as plt \n",
    "from  matplotlib.ticker import PercentFormatter\n",
    "import seaborn as sns"
   ]
  },
  {
   "cell_type": "code",
   "execution_count": 2,
   "metadata": {},
   "outputs": [],
   "source": [
    "#Set Option\n",
    "pd.set_option('max_colwidth', 10000)\n",
    "pd.set_option('display.max_rows', 500)\n",
    "pd.set_option('display.max_columns', 500)\n",
    "pd.set_option('display.width', 1000)\n",
    "sns.set_theme()"
   ]
  },
  {
   "cell_type": "markdown",
   "metadata": {},
   "source": [
    "## Đọc dữ liệu"
   ]
  },
  {
   "cell_type": "code",
   "execution_count": 3,
   "metadata": {},
   "outputs": [],
   "source": [
    "df = pd.DataFrame()\n",
    "for i in range(1,64):\n",
    "    df = df.append(pd.read_csv(f'Data/{i}.csv'),ignore_index = True, sort= False)\n"
   ]
  },
  {
   "cell_type": "markdown",
   "metadata": {},
   "source": [
    "## Khám phá dữ liệu Và Tiền xử lý"
   ]
  },
  {
   "cell_type": "code",
   "execution_count": 4,
   "metadata": {},
   "outputs": [
    {
     "data": {
      "text/html": [
       "<div>\n",
       "<style scoped>\n",
       "    .dataframe tbody tr th:only-of-type {\n",
       "        vertical-align: middle;\n",
       "    }\n",
       "\n",
       "    .dataframe tbody tr th {\n",
       "        vertical-align: top;\n",
       "    }\n",
       "\n",
       "    .dataframe thead th {\n",
       "        text-align: right;\n",
       "    }\n",
       "</style>\n",
       "<table border=\"1\" class=\"dataframe\">\n",
       "  <thead>\n",
       "    <tr style=\"text-align: right;\">\n",
       "      <th></th>\n",
       "      <th>SBD</th>\n",
       "      <th>TOÁN</th>\n",
       "      <th>VĂN</th>\n",
       "      <th>LÝ</th>\n",
       "      <th>HÓA</th>\n",
       "      <th>SINH</th>\n",
       "      <th>SỬ</th>\n",
       "      <th>ĐỊA</th>\n",
       "      <th>GDCD</th>\n",
       "      <th>ANH</th>\n",
       "      <th>KHTN</th>\n",
       "      <th>KHXH</th>\n",
       "      <th>KHỐI A</th>\n",
       "      <th>KHỐI B</th>\n",
       "      <th>KHỐI C</th>\n",
       "      <th>KHỐI D</th>\n",
       "      <th>KHỐI A1</th>\n",
       "    </tr>\n",
       "  </thead>\n",
       "  <tbody>\n",
       "    <tr>\n",
       "      <th>0</th>\n",
       "      <td>1063438</td>\n",
       "      <td>3.0</td>\n",
       "      <td>3.5</td>\n",
       "      <td>2.75</td>\n",
       "      <td>3.25</td>\n",
       "      <td>2.75</td>\n",
       "      <td>2.50</td>\n",
       "      <td>5.50</td>\n",
       "      <td>5.50</td>\n",
       "      <td>2.6</td>\n",
       "      <td>2.92</td>\n",
       "      <td>4.50</td>\n",
       "      <td>9.0</td>\n",
       "      <td>9.00</td>\n",
       "      <td>11.50</td>\n",
       "      <td>9.1</td>\n",
       "      <td>8.35</td>\n",
       "    </tr>\n",
       "    <tr>\n",
       "      <th>1</th>\n",
       "      <td>1063463</td>\n",
       "      <td>4.0</td>\n",
       "      <td>3.0</td>\n",
       "      <td>2.75</td>\n",
       "      <td>3.75</td>\n",
       "      <td>4.50</td>\n",
       "      <td>1.50</td>\n",
       "      <td>5.00</td>\n",
       "      <td>5.75</td>\n",
       "      <td>3.0</td>\n",
       "      <td>3.67</td>\n",
       "      <td>4.08</td>\n",
       "      <td>10.5</td>\n",
       "      <td>12.25</td>\n",
       "      <td>9.50</td>\n",
       "      <td>10</td>\n",
       "      <td>9.75</td>\n",
       "    </tr>\n",
       "    <tr>\n",
       "      <th>2</th>\n",
       "      <td>1063464</td>\n",
       "      <td>5.0</td>\n",
       "      <td>3.0</td>\n",
       "      <td>3.75</td>\n",
       "      <td>2.25</td>\n",
       "      <td>3.50</td>\n",
       "      <td>3.50</td>\n",
       "      <td>5.75</td>\n",
       "      <td>5.75</td>\n",
       "      <td>3.0</td>\n",
       "      <td>3.17</td>\n",
       "      <td>5.00</td>\n",
       "      <td>11.0</td>\n",
       "      <td>10.75</td>\n",
       "      <td>12.25</td>\n",
       "      <td>11</td>\n",
       "      <td>11.75</td>\n",
       "    </tr>\n",
       "    <tr>\n",
       "      <th>3</th>\n",
       "      <td>1063470</td>\n",
       "      <td>2.6</td>\n",
       "      <td>4.5</td>\n",
       "      <td>2.00</td>\n",
       "      <td>3.50</td>\n",
       "      <td>3.25</td>\n",
       "      <td>1.75</td>\n",
       "      <td>4.25</td>\n",
       "      <td>6.25</td>\n",
       "      <td>3.0</td>\n",
       "      <td>2.92</td>\n",
       "      <td>4.08</td>\n",
       "      <td>8.1</td>\n",
       "      <td>9.35</td>\n",
       "      <td>10.50</td>\n",
       "      <td>10.1</td>\n",
       "      <td>7.60</td>\n",
       "    </tr>\n",
       "    <tr>\n",
       "      <th>4</th>\n",
       "      <td>1063477</td>\n",
       "      <td>3.2</td>\n",
       "      <td>5.0</td>\n",
       "      <td>2.00</td>\n",
       "      <td>3.00</td>\n",
       "      <td>3.00</td>\n",
       "      <td>2.50</td>\n",
       "      <td>4.00</td>\n",
       "      <td>7.00</td>\n",
       "      <td>3.4</td>\n",
       "      <td>2.67</td>\n",
       "      <td>4.50</td>\n",
       "      <td>8.2</td>\n",
       "      <td>9.20</td>\n",
       "      <td>11.50</td>\n",
       "      <td>11.6</td>\n",
       "      <td>8.60</td>\n",
       "    </tr>\n",
       "  </tbody>\n",
       "</table>\n",
       "</div>"
      ],
      "text/plain": [
       "       SBD  TOÁN  VĂN    LÝ   HÓA  SINH    SỬ   ĐỊA  GDCD  ANH  KHTN  KHXH  KHỐI A  KHỐI B  KHỐI C KHỐI D  KHỐI A1\n",
       "0  1063438   3.0  3.5  2.75  3.25  2.75  2.50  5.50  5.50  2.6  2.92  4.50     9.0    9.00   11.50    9.1     8.35\n",
       "1  1063463   4.0  3.0  2.75  3.75  4.50  1.50  5.00  5.75  3.0  3.67  4.08    10.5   12.25    9.50     10     9.75\n",
       "2  1063464   5.0  3.0  3.75  2.25  3.50  3.50  5.75  5.75  3.0  3.17  5.00    11.0   10.75   12.25     11    11.75\n",
       "3  1063470   2.6  4.5  2.00  3.50  3.25  1.75  4.25  6.25  3.0  2.92  4.08     8.1    9.35   10.50   10.1     7.60\n",
       "4  1063477   3.2  5.0  2.00  3.00  3.00  2.50  4.00  7.00  3.4  2.67  4.50     8.2    9.20   11.50   11.6     8.60"
      ]
     },
     "execution_count": 4,
     "metadata": {},
     "output_type": "execute_result"
    }
   ],
   "source": [
    "df.head()"
   ]
  },
  {
   "cell_type": "code",
   "execution_count": 5,
   "metadata": {},
   "outputs": [
    {
     "name": "stdout",
     "output_type": "stream",
     "text": [
      "(844122, 17)\n",
      "<class 'pandas.core.frame.DataFrame'>\n",
      "RangeIndex: 844122 entries, 0 to 844121\n",
      "Data columns (total 17 columns):\n",
      " #   Column   Non-Null Count   Dtype  \n",
      "---  ------   --------------   -----  \n",
      " 0   SBD      844122 non-null  int64  \n",
      " 1   TOÁN     840264 non-null  float64\n",
      " 2   VĂN      826061 non-null  float64\n",
      " 3   LÝ       361908 non-null  float64\n",
      " 4   HÓA      365827 non-null  float64\n",
      " 5   SINH     357544 non-null  float64\n",
      " 6   SỬ       512711 non-null  float64\n",
      " 7   ĐỊA      497523 non-null  float64\n",
      " 8   GDCD     434021 non-null  float64\n",
      " 9   ANH      745755 non-null  float64\n",
      " 10  KHTN     352736 non-null  float64\n",
      " 11  KHXH     428493 non-null  float64\n",
      " 12  KHỐI A   359525 non-null  float64\n",
      " 13  KHỐI B   357439 non-null  float64\n",
      " 14  KHỐI C   496866 non-null  float64\n",
      " 15  KHỐI D   741766 non-null  object \n",
      " 16  KHỐI A1  344135 non-null  float64\n",
      "dtypes: float64(15), int64(1), object(1)\n",
      "memory usage: 109.5+ MB\n",
      "None\n"
     ]
    }
   ],
   "source": [
    "#Xem kích thước dữ liệu và kiểu dữ liệu của từng cột\n",
    "print(df.shape)\n",
    "print(df.info())"
   ]
  },
  {
   "cell_type": "code",
   "execution_count": 6,
   "metadata": {},
   "outputs": [
    {
     "name": "stdout",
     "output_type": "stream",
     "text": [
      "SBD\n",
      "40000001    2\n",
      "40000002    2\n",
      "40000003    2\n",
      "40000004    2\n",
      "40000005    2\n",
      "           ..\n",
      "40022184    2\n",
      "40022185    2\n",
      "40022186    2\n",
      "40022187    2\n",
      "40022188    2\n",
      "Length: 22035, dtype: int64\n"
     ]
    }
   ],
   "source": [
    "#Xem các dữ liệu có trùng nhau không\n",
    "dups = df.pivot_table(index = ['SBD'], aggfunc ='size')\n",
    "print(dups[dups>1])"
   ]
  },
  {
   "cell_type": "code",
   "execution_count": 7,
   "metadata": {},
   "outputs": [
    {
     "data": {
      "text/html": [
       "<div>\n",
       "<style scoped>\n",
       "    .dataframe tbody tr th:only-of-type {\n",
       "        vertical-align: middle;\n",
       "    }\n",
       "\n",
       "    .dataframe tbody tr th {\n",
       "        vertical-align: top;\n",
       "    }\n",
       "\n",
       "    .dataframe thead th {\n",
       "        text-align: right;\n",
       "    }\n",
       "</style>\n",
       "<table border=\"1\" class=\"dataframe\">\n",
       "  <thead>\n",
       "    <tr style=\"text-align: right;\">\n",
       "      <th></th>\n",
       "      <th>SBD</th>\n",
       "      <th>TOÁN</th>\n",
       "      <th>VĂN</th>\n",
       "      <th>LÝ</th>\n",
       "      <th>HÓA</th>\n",
       "      <th>SINH</th>\n",
       "      <th>SỬ</th>\n",
       "      <th>ĐỊA</th>\n",
       "      <th>GDCD</th>\n",
       "      <th>ANH</th>\n",
       "      <th>KHTN</th>\n",
       "      <th>KHXH</th>\n",
       "      <th>KHỐI A</th>\n",
       "      <th>KHỐI B</th>\n",
       "      <th>KHỐI C</th>\n",
       "      <th>KHỐI D</th>\n",
       "      <th>KHỐI A1</th>\n",
       "    </tr>\n",
       "  </thead>\n",
       "  <tbody>\n",
       "    <tr>\n",
       "      <th>246856</th>\n",
       "      <td>40000005</td>\n",
       "      <td>6.0</td>\n",
       "      <td>6.0</td>\n",
       "      <td>NaN</td>\n",
       "      <td>NaN</td>\n",
       "      <td>NaN</td>\n",
       "      <td>3.75</td>\n",
       "      <td>6.25</td>\n",
       "      <td>8.25</td>\n",
       "      <td>6.2</td>\n",
       "      <td>NaN</td>\n",
       "      <td>6.08</td>\n",
       "      <td>NaN</td>\n",
       "      <td>NaN</td>\n",
       "      <td>16.0</td>\n",
       "      <td>18.2</td>\n",
       "      <td>NaN</td>\n",
       "    </tr>\n",
       "    <tr>\n",
       "      <th>573528</th>\n",
       "      <td>40000005</td>\n",
       "      <td>6.0</td>\n",
       "      <td>6.0</td>\n",
       "      <td>NaN</td>\n",
       "      <td>NaN</td>\n",
       "      <td>NaN</td>\n",
       "      <td>3.75</td>\n",
       "      <td>6.25</td>\n",
       "      <td>8.25</td>\n",
       "      <td>6.2</td>\n",
       "      <td>NaN</td>\n",
       "      <td>6.08</td>\n",
       "      <td>NaN</td>\n",
       "      <td>NaN</td>\n",
       "      <td>16.0</td>\n",
       "      <td>18.2</td>\n",
       "      <td>NaN</td>\n",
       "    </tr>\n",
       "  </tbody>\n",
       "</table>\n",
       "</div>"
      ],
      "text/plain": [
       "             SBD  TOÁN  VĂN  LÝ  HÓA  SINH    SỬ   ĐỊA  GDCD  ANH  KHTN  KHXH  KHỐI A  KHỐI B  KHỐI C KHỐI D  KHỐI A1\n",
       "246856  40000005   6.0  6.0 NaN  NaN   NaN  3.75  6.25  8.25  6.2   NaN  6.08     NaN     NaN    16.0   18.2      NaN\n",
       "573528  40000005   6.0  6.0 NaN  NaN   NaN  3.75  6.25  8.25  6.2   NaN  6.08     NaN     NaN    16.0   18.2      NaN"
      ]
     },
     "execution_count": 7,
     "metadata": {},
     "output_type": "execute_result"
    }
   ],
   "source": [
    "# Xem 1 dòng dữ liệu trùng nhau\n",
    "df[df['SBD'] == 40000005] "
   ]
  },
  {
   "cell_type": "code",
   "execution_count": 8,
   "metadata": {},
   "outputs": [],
   "source": [
    "# Xóa dữ liệu trùng nhau (dữ liệu trùng nhau gây ra bởi file 14.csv)\n",
    "df.drop_duplicates(inplace=True)"
   ]
  },
  {
   "cell_type": "code",
   "execution_count": 9,
   "metadata": {},
   "outputs": [],
   "source": [
    "# Thêm cụm thi vào dataframe\n",
    "dict_cumthi = {1: \"Hà Nội\",2: \"TP. Hồ Chí Minh\",3: \"Hải Phòng\",4: \"Đà Nẵng\",5: \"Hà Giang\",6: \"Cao Bằng\",7: \"Lai Châu\",8: \"Lào Cai\",9: \"Tuyên Quang\",10: \"Lạng Sơn\",11: \"Bắc Kạn\",12: \"Thái Nguyên\",13: \"Yên Bái\",14: \"Sơn La\",15: \"Phú Thọ\",16: \"Vĩnh Phúc\",17: \"Quảng Ninh\",18: \"Bắc Giang\",19: \"Bắc Ninh\",21: \"Hải Dương\",22: \"Hưng Yên\",23: \"Hoà Bình\",24: \"Hà Nam\",25: \"Nam Định\",26: \"Thái Bình\",27: \"Ninh Bình\",28: \"Thanh Hoá\",29: \"Nghệ An\",30: \"Hà Tĩnh\",31: \"Quảng Bình\",32: \"Quảng Trị\",33: \"Thừa Thiên -Huế\",34: \"Quảng Nam\",35: \"Quảng Ngãi\",36: \"Kon Tum\",37: \"Bình Định\",38: \"Gia Lai\",39: \"Phú Yên\",40: \"Đắk Lắk\",41: \"Khánh Hoà\",42: \"Lâm Đồng\",43: \"Bình Phước\",44: \"Bình Dương\",45: \"Ninh Thuận\",46: \"Tây Ninh\",47: \"Bình Thuận\",48: \"Đồng Nai\",49: \"Long An\",50: \"Đồng Tháp\",51: \"An Giang\",52: \"Bà Rịa-Vũng Tàu\",53: \"Tiền Giang\",54: \"Kiên Giang\",55: \"Cần Thơ\",56: \"Bến Tre\",57: \"Vĩnh Long\",58: \"Trà Vinh\",59: \"Sóc Trăng\",60: \"Bạc Liêu\",61: \"Cà Mau\",62: \"Điện Biên\",63: \"Đăk Nông\",64: \"Hậu Giang\",65: \"Cục Nhà trường - Bộ Quốc phòng\"}\n",
    "df[\"CỤM\"] = df[\"SBD\"].apply(lambda x: dict_cumthi[int(x/1_000_000)])"
   ]
  },
  {
   "cell_type": "code",
   "execution_count": 11,
   "metadata": {},
   "outputs": [
    {
     "data": {
      "text/plain": [
       "CỤM\n",
       "An Giang           16359\n",
       "Bà Rịa-Vũng Tàu    11846\n",
       "Bình Dương         11313\n",
       "Bình Phước         10219\n",
       "Bình Thuận         11716\n",
       "Bình Định          17785\n",
       "Bạc Liêu            5370\n",
       "Bắc Giang          19612\n",
       "Bắc Kạn             2866\n",
       "Bắc Ninh           14815\n",
       "Bến Tre            11740\n",
       "Cao Bằng            4571\n",
       "Cà Mau              9275\n",
       "Cần Thơ            13068\n",
       "Gia Lai            12825\n",
       "Hoà Bình            8952\n",
       "Hà Giang            3099\n",
       "Hà Nam              8685\n",
       "Hà Nội             79092\n",
       "Hà Tĩnh            16330\n",
       "Hưng Yên           12888\n",
       "Hải Dương          19973\n",
       "Hải Phòng           5099\n",
       "Hậu Giang           6190\n",
       "Khánh Hoà          13500\n",
       "Kiên Giang         13482\n",
       "Kon Tum             4445\n",
       "Lai Châu            3232\n",
       "Long An            14065\n",
       "Lào Cai             6199\n",
       "Lâm Đồng           14985\n",
       "Lạng Sơn            9013\n",
       "Nam Định            5099\n",
       "Nghệ An              199\n",
       "Ninh Bình           9612\n",
       "Ninh Thuận          5774\n",
       "Phú Thọ            13699\n",
       "Phú Yên            10731\n",
       "Quảng Bình          9623\n",
       "Quảng Nam          17532\n",
       "Quảng Ngãi         12631\n",
       "Quảng Ninh         14690\n",
       "Quảng Trị           7889\n",
       "Sóc Trăng           9334\n",
       "TP. Hồ Chí Minh    78321\n",
       "Thanh Hoá          14099\n",
       "Thái Bình          21435\n",
       "Thái Nguyên        14449\n",
       "Thừa Thiên -Huế    12387\n",
       "Tiền Giang         14106\n",
       "Trà Vinh            8183\n",
       "Tuyên Quang         7638\n",
       "Tây Ninh            8858\n",
       "Vĩnh Long          10571\n",
       "Vĩnh Phúc          12602\n",
       "Yên Bái             7022\n",
       "Điện Biên           5481\n",
       "Đà Nẵng             6099\n",
       "Đăk Nông            6361\n",
       "Đắk Lắk            22035\n",
       "Đồng Nai           28651\n",
       "Đồng Tháp          14367\n",
       "Name: SBD, dtype: int64"
      ]
     },
     "execution_count": 11,
     "metadata": {},
     "output_type": "execute_result"
    }
   ],
   "source": [
    "# Xem số lượng thí sinh ở từng cụm\n",
    "df.groupby([\"CỤM\"])[\"SBD\"].agg('count')"
   ]
  },
  {
   "cell_type": "code",
   "execution_count": 12,
   "metadata": {},
   "outputs": [
    {
     "data": {
      "text/html": [
       "<div>\n",
       "<style scoped>\n",
       "    .dataframe tbody tr th:only-of-type {\n",
       "        vertical-align: middle;\n",
       "    }\n",
       "\n",
       "    .dataframe tbody tr th {\n",
       "        vertical-align: top;\n",
       "    }\n",
       "\n",
       "    .dataframe thead th {\n",
       "        text-align: right;\n",
       "    }\n",
       "</style>\n",
       "<table border=\"1\" class=\"dataframe\">\n",
       "  <thead>\n",
       "    <tr style=\"text-align: right;\">\n",
       "      <th></th>\n",
       "      <th>SBD</th>\n",
       "      <th>TOÁN</th>\n",
       "      <th>VĂN</th>\n",
       "      <th>LÝ</th>\n",
       "      <th>HÓA</th>\n",
       "      <th>SINH</th>\n",
       "      <th>SỬ</th>\n",
       "      <th>ĐỊA</th>\n",
       "      <th>GDCD</th>\n",
       "      <th>ANH</th>\n",
       "      <th>KHTN</th>\n",
       "      <th>KHXH</th>\n",
       "      <th>KHỐI A</th>\n",
       "      <th>KHỐI B</th>\n",
       "      <th>KHỐI C</th>\n",
       "      <th>KHỐI D</th>\n",
       "      <th>KHỐI A1</th>\n",
       "      <th>CỤM</th>\n",
       "    </tr>\n",
       "  </thead>\n",
       "  <tbody>\n",
       "    <tr>\n",
       "      <th>0</th>\n",
       "      <td>1063438</td>\n",
       "      <td>3.0</td>\n",
       "      <td>3.50</td>\n",
       "      <td>2.75</td>\n",
       "      <td>3.25</td>\n",
       "      <td>2.75</td>\n",
       "      <td>2.50</td>\n",
       "      <td>5.50</td>\n",
       "      <td>5.50</td>\n",
       "      <td>2.6</td>\n",
       "      <td>2.92</td>\n",
       "      <td>4.50</td>\n",
       "      <td>9.00</td>\n",
       "      <td>9.00</td>\n",
       "      <td>11.50</td>\n",
       "      <td>9.1</td>\n",
       "      <td>8.35</td>\n",
       "      <td>Hà Nội</td>\n",
       "    </tr>\n",
       "    <tr>\n",
       "      <th>1</th>\n",
       "      <td>1063463</td>\n",
       "      <td>4.0</td>\n",
       "      <td>3.00</td>\n",
       "      <td>2.75</td>\n",
       "      <td>3.75</td>\n",
       "      <td>4.50</td>\n",
       "      <td>1.50</td>\n",
       "      <td>5.00</td>\n",
       "      <td>5.75</td>\n",
       "      <td>3.0</td>\n",
       "      <td>3.67</td>\n",
       "      <td>4.08</td>\n",
       "      <td>10.50</td>\n",
       "      <td>12.25</td>\n",
       "      <td>9.50</td>\n",
       "      <td>10</td>\n",
       "      <td>9.75</td>\n",
       "      <td>Hà Nội</td>\n",
       "    </tr>\n",
       "    <tr>\n",
       "      <th>2</th>\n",
       "      <td>1063464</td>\n",
       "      <td>5.0</td>\n",
       "      <td>3.00</td>\n",
       "      <td>3.75</td>\n",
       "      <td>2.25</td>\n",
       "      <td>3.50</td>\n",
       "      <td>3.50</td>\n",
       "      <td>5.75</td>\n",
       "      <td>5.75</td>\n",
       "      <td>3.0</td>\n",
       "      <td>3.17</td>\n",
       "      <td>5.00</td>\n",
       "      <td>11.00</td>\n",
       "      <td>10.75</td>\n",
       "      <td>12.25</td>\n",
       "      <td>11</td>\n",
       "      <td>11.75</td>\n",
       "      <td>Hà Nội</td>\n",
       "    </tr>\n",
       "    <tr>\n",
       "      <th>3</th>\n",
       "      <td>1063470</td>\n",
       "      <td>2.6</td>\n",
       "      <td>4.50</td>\n",
       "      <td>2.00</td>\n",
       "      <td>3.50</td>\n",
       "      <td>3.25</td>\n",
       "      <td>1.75</td>\n",
       "      <td>4.25</td>\n",
       "      <td>6.25</td>\n",
       "      <td>3.0</td>\n",
       "      <td>2.92</td>\n",
       "      <td>4.08</td>\n",
       "      <td>8.10</td>\n",
       "      <td>9.35</td>\n",
       "      <td>10.50</td>\n",
       "      <td>10.1</td>\n",
       "      <td>7.60</td>\n",
       "      <td>Hà Nội</td>\n",
       "    </tr>\n",
       "    <tr>\n",
       "      <th>4</th>\n",
       "      <td>1063477</td>\n",
       "      <td>3.2</td>\n",
       "      <td>5.00</td>\n",
       "      <td>2.00</td>\n",
       "      <td>3.00</td>\n",
       "      <td>3.00</td>\n",
       "      <td>2.50</td>\n",
       "      <td>4.00</td>\n",
       "      <td>7.00</td>\n",
       "      <td>3.4</td>\n",
       "      <td>2.67</td>\n",
       "      <td>4.50</td>\n",
       "      <td>8.20</td>\n",
       "      <td>9.20</td>\n",
       "      <td>11.50</td>\n",
       "      <td>11.6</td>\n",
       "      <td>8.60</td>\n",
       "      <td>Hà Nội</td>\n",
       "    </tr>\n",
       "    <tr>\n",
       "      <th>...</th>\n",
       "      <td>...</td>\n",
       "      <td>...</td>\n",
       "      <td>...</td>\n",
       "      <td>...</td>\n",
       "      <td>...</td>\n",
       "      <td>...</td>\n",
       "      <td>...</td>\n",
       "      <td>...</td>\n",
       "      <td>...</td>\n",
       "      <td>...</td>\n",
       "      <td>...</td>\n",
       "      <td>...</td>\n",
       "      <td>...</td>\n",
       "      <td>...</td>\n",
       "      <td>...</td>\n",
       "      <td>...</td>\n",
       "      <td>...</td>\n",
       "      <td>...</td>\n",
       "    </tr>\n",
       "    <tr>\n",
       "      <th>844117</th>\n",
       "      <td>61002654</td>\n",
       "      <td>5.6</td>\n",
       "      <td>6.25</td>\n",
       "      <td>3.00</td>\n",
       "      <td>5.75</td>\n",
       "      <td>3.25</td>\n",
       "      <td>NaN</td>\n",
       "      <td>NaN</td>\n",
       "      <td>NaN</td>\n",
       "      <td>3.2</td>\n",
       "      <td>4.00</td>\n",
       "      <td>NaN</td>\n",
       "      <td>14.35</td>\n",
       "      <td>14.60</td>\n",
       "      <td>NaN</td>\n",
       "      <td>15.05</td>\n",
       "      <td>11.80</td>\n",
       "      <td>Cà Mau</td>\n",
       "    </tr>\n",
       "    <tr>\n",
       "      <th>844118</th>\n",
       "      <td>61003116</td>\n",
       "      <td>6.6</td>\n",
       "      <td>5.50</td>\n",
       "      <td>5.25</td>\n",
       "      <td>5.75</td>\n",
       "      <td>6.00</td>\n",
       "      <td>NaN</td>\n",
       "      <td>NaN</td>\n",
       "      <td>NaN</td>\n",
       "      <td>4.4</td>\n",
       "      <td>5.67</td>\n",
       "      <td>NaN</td>\n",
       "      <td>17.60</td>\n",
       "      <td>18.35</td>\n",
       "      <td>NaN</td>\n",
       "      <td>16.5</td>\n",
       "      <td>16.25</td>\n",
       "      <td>Cà Mau</td>\n",
       "    </tr>\n",
       "    <tr>\n",
       "      <th>844119</th>\n",
       "      <td>61003743</td>\n",
       "      <td>6.2</td>\n",
       "      <td>7.25</td>\n",
       "      <td>4.75</td>\n",
       "      <td>6.50</td>\n",
       "      <td>5.25</td>\n",
       "      <td>NaN</td>\n",
       "      <td>NaN</td>\n",
       "      <td>NaN</td>\n",
       "      <td>5.4</td>\n",
       "      <td>5.50</td>\n",
       "      <td>NaN</td>\n",
       "      <td>17.45</td>\n",
       "      <td>17.95</td>\n",
       "      <td>NaN</td>\n",
       "      <td>18.85</td>\n",
       "      <td>16.35</td>\n",
       "      <td>Cà Mau</td>\n",
       "    </tr>\n",
       "    <tr>\n",
       "      <th>844120</th>\n",
       "      <td>61003786</td>\n",
       "      <td>5.8</td>\n",
       "      <td>8.75</td>\n",
       "      <td>NaN</td>\n",
       "      <td>NaN</td>\n",
       "      <td>NaN</td>\n",
       "      <td>4.50</td>\n",
       "      <td>7.50</td>\n",
       "      <td>8.50</td>\n",
       "      <td>4.6</td>\n",
       "      <td>NaN</td>\n",
       "      <td>6.83</td>\n",
       "      <td>NaN</td>\n",
       "      <td>NaN</td>\n",
       "      <td>20.75</td>\n",
       "      <td>19.15</td>\n",
       "      <td>NaN</td>\n",
       "      <td>Cà Mau</td>\n",
       "    </tr>\n",
       "    <tr>\n",
       "      <th>844121</th>\n",
       "      <td>61003862</td>\n",
       "      <td>5.8</td>\n",
       "      <td>7.75</td>\n",
       "      <td>7.25</td>\n",
       "      <td>5.00</td>\n",
       "      <td>5.75</td>\n",
       "      <td>NaN</td>\n",
       "      <td>NaN</td>\n",
       "      <td>NaN</td>\n",
       "      <td>3.6</td>\n",
       "      <td>6.00</td>\n",
       "      <td>NaN</td>\n",
       "      <td>18.05</td>\n",
       "      <td>16.55</td>\n",
       "      <td>NaN</td>\n",
       "      <td>17.15</td>\n",
       "      <td>16.65</td>\n",
       "      <td>Cà Mau</td>\n",
       "    </tr>\n",
       "  </tbody>\n",
       "</table>\n",
       "<p>822087 rows × 18 columns</p>\n",
       "</div>"
      ],
      "text/plain": [
       "             SBD  TOÁN   VĂN    LÝ   HÓA  SINH    SỬ   ĐỊA  GDCD  ANH  KHTN  KHXH  KHỐI A  KHỐI B  KHỐI C KHỐI D  KHỐI A1     CỤM\n",
       "0        1063438   3.0  3.50  2.75  3.25  2.75  2.50  5.50  5.50  2.6  2.92  4.50    9.00    9.00   11.50    9.1     8.35  Hà Nội\n",
       "1        1063463   4.0  3.00  2.75  3.75  4.50  1.50  5.00  5.75  3.0  3.67  4.08   10.50   12.25    9.50     10     9.75  Hà Nội\n",
       "2        1063464   5.0  3.00  3.75  2.25  3.50  3.50  5.75  5.75  3.0  3.17  5.00   11.00   10.75   12.25     11    11.75  Hà Nội\n",
       "3        1063470   2.6  4.50  2.00  3.50  3.25  1.75  4.25  6.25  3.0  2.92  4.08    8.10    9.35   10.50   10.1     7.60  Hà Nội\n",
       "4        1063477   3.2  5.00  2.00  3.00  3.00  2.50  4.00  7.00  3.4  2.67  4.50    8.20    9.20   11.50   11.6     8.60  Hà Nội\n",
       "...          ...   ...   ...   ...   ...   ...   ...   ...   ...  ...   ...   ...     ...     ...     ...    ...      ...     ...\n",
       "844117  61002654   5.6  6.25  3.00  5.75  3.25   NaN   NaN   NaN  3.2  4.00   NaN   14.35   14.60     NaN  15.05    11.80  Cà Mau\n",
       "844118  61003116   6.6  5.50  5.25  5.75  6.00   NaN   NaN   NaN  4.4  5.67   NaN   17.60   18.35     NaN   16.5    16.25  Cà Mau\n",
       "844119  61003743   6.2  7.25  4.75  6.50  5.25   NaN   NaN   NaN  5.4  5.50   NaN   17.45   17.95     NaN  18.85    16.35  Cà Mau\n",
       "844120  61003786   5.8  8.75   NaN   NaN   NaN  4.50  7.50  8.50  4.6   NaN  6.83     NaN     NaN   20.75  19.15      NaN  Cà Mau\n",
       "844121  61003862   5.8  7.75  7.25  5.00  5.75   NaN   NaN   NaN  3.6  6.00   NaN   18.05   16.55     NaN  17.15    16.65  Cà Mau\n",
       "\n",
       "[822087 rows x 18 columns]"
      ]
     },
     "execution_count": 12,
     "metadata": {},
     "output_type": "execute_result"
    }
   ],
   "source": [
    "df"
   ]
  },
  {
   "cell_type": "code",
   "execution_count": null,
   "metadata": {},
   "outputs": [],
   "source": [
    "df.to_csv('fullData.csv',index = False)"
   ]
  },
  {
   "cell_type": "markdown",
   "metadata": {},
   "source": [
    "## Phân tích gian lận"
   ]
  },
  {
   "cell_type": "markdown",
   "metadata": {},
   "source": [
    "Để biết được thí sinh nào gian lận trong kì thi ta cần xem các điểm bất thường sau:\n",
    "- Thí sinh có điểm của một khối hay một môn nào đó chênh lệch nhiều so với trung bình của cụm thi đó hoặc chênh lệch nhiều trên cả nước\n",
    "- Thí sinh có điểm môn Toán cao hơn nhiều các môn còn lại trong khối có môn toán\n",
    "- ...\n"
   ]
  },
  {
   "cell_type": "markdown",
   "metadata": {},
   "source": [
    "So sánh phần trăm các thí sinh:\n",
    "1. Đạt trên 27 điểm các khối\n",
    "2. Đạt trên 9 điểm các môn\n",
    "\n",
    "của cụm thi nghi ngờ với: \n",
    "1. Cả nước (với hy vọng không có nhiều tỉnh sửa điểm)\n",
    "2. Hai cụm có số lượng thí sinh cao nhất: Hà Nội và TP Hồ Chí Minh\n"
   ]
  },
  {
   "cell_type": "markdown",
   "metadata": {},
   "source": [
    "### So Sánh Điểm Toán "
   ]
  },
  {
   "cell_type": "code",
   "execution_count": 132,
   "metadata": {},
   "outputs": [],
   "source": [
    "df_HaGiang = pd.read_csv('Data/4.csv')\n",
    "df_HaNoi = pd.read_csv('Data/1.csv')\n",
    "df_HCM = pd.read_csv('Data/2.csv')"
   ]
  },
  {
   "cell_type": "code",
   "execution_count": 135,
   "metadata": {},
   "outputs": [],
   "source": [
    "def findPercentScoreHighgerThan(df,x,subject):\n",
    "    subjectDF = pd.DataFrame(df[subject].value_counts()/(df[subject].count()))\n",
    "    subjectDF = subjectDF.sort_index()\n",
    "    subjectDF = subjectDF[subject]\n",
    "    return subjectDF"
   ]
  },
  {
   "cell_type": "code",
   "execution_count": null,
   "metadata": {},
   "outputs": [],
   "source": [
    "sns.catplot(x=\"TOÁN\", kind=\"count\", palette=\"ch:.25\", data=df)"
   ]
  },
  {
   "cell_type": "code",
   "execution_count": 136,
   "metadata": {},
   "outputs": [
    {
     "data": {
      "text/plain": [
       "1.0    0.004532\n",
       "1.2    0.004856\n",
       "1.4    0.011007\n",
       "1.6    0.026870\n",
       "1.8    0.033344\n",
       "2.0    0.036905\n",
       "2.2    0.055034\n",
       "2.4    0.062803\n",
       "2.6    0.083846\n",
       "2.8    0.077695\n",
       "3.0    0.070573\n",
       "3.2    0.070249\n",
       "3.4    0.059242\n",
       "3.6    0.052768\n",
       "3.8    0.039495\n",
       "4.0    0.043056\n",
       "4.2    0.044027\n",
       "4.4    0.030754\n",
       "4.6    0.034963\n",
       "4.8    0.023632\n",
       "5.0    0.019424\n",
       "5.2    0.017805\n",
       "5.4    0.015215\n",
       "5.6    0.009064\n",
       "5.8    0.010683\n",
       "6.0    0.007770\n",
       "6.2    0.006798\n",
       "6.4    0.006798\n",
       "6.6    0.003561\n",
       "6.8    0.004208\n",
       "7.0    0.003237\n",
       "7.2    0.003885\n",
       "7.4    0.002914\n",
       "7.6    0.002266\n",
       "7.8    0.000971\n",
       "8.0    0.002266\n",
       "8.2    0.001619\n",
       "8.4    0.001942\n",
       "8.6    0.001942\n",
       "8.8    0.002266\n",
       "9.0    0.004532\n",
       "9.2    0.001942\n",
       "9.4    0.001942\n",
       "9.6    0.001295\n",
       "Name: TOÁN, dtype: float64"
      ]
     },
     "execution_count": 136,
     "metadata": {},
     "output_type": "execute_result"
    }
   ],
   "source": [
    "HGToan = findPercentScoreHighgerThan(df_HaGiang,9,'TOÁN')\n",
    "HGToan"
   ]
  },
  {
   "cell_type": "code",
   "execution_count": 137,
   "metadata": {},
   "outputs": [
    {
     "data": {
      "text/plain": [
       "0.009711880867594691"
      ]
     },
     "execution_count": 137,
     "metadata": {},
     "output_type": "execute_result"
    }
   ],
   "source": [
    "sumHGToan = HGToan[9.0] + HGToan[9.2] + HGToan[9.4] + HGToan[9.6]\n",
    "sumHGToan"
   ]
  },
  {
   "cell_type": "code",
   "execution_count": 138,
   "metadata": {},
   "outputs": [
    {
     "data": {
      "text/plain": [
       "0.000551088736283878"
      ]
     },
     "execution_count": 138,
     "metadata": {},
     "output_type": "execute_result"
    }
   ],
   "source": [
    "AllToan = findPercentScoreHighgerThan(df,9,'TOÁN')\n",
    "\n",
    "i = 9.0\n",
    "sumAllToan = 0\n",
    "while i<=10:\n",
    "    sumAllToan += AllToan[np.round(i,1)]\n",
    "    i+=0.2\n",
    "sumAllToan"
   ]
  },
  {
   "cell_type": "code",
   "execution_count": 139,
   "metadata": {},
   "outputs": [
    {
     "data": {
      "text/plain": [
       "17.623079965459297"
      ]
     },
     "execution_count": 139,
     "metadata": {},
     "output_type": "execute_result"
    }
   ],
   "source": [
    "sumHGToan/sumAllToan"
   ]
  },
  {
   "cell_type": "markdown",
   "metadata": {},
   "source": [
    "Phần trăm điểm toán trên 9 điểm ở cụm thi Hà Giang cao gấp 17 lần so với phần trăm điểm toán trên 9 điểm của cả nước!"
   ]
  },
  {
   "cell_type": "code",
   "execution_count": 140,
   "metadata": {},
   "outputs": [
    {
     "data": {
      "text/plain": [
       "9.004056138479996"
      ]
     },
     "execution_count": 140,
     "metadata": {},
     "output_type": "execute_result"
    }
   ],
   "source": [
    "HNToan = findPercentScoreHighgerThan(df_HaNoi,9,'TOÁN')\n",
    "sumHNToan = HNToan[9.0] + HNToan[9.2] + HNToan[9.4] + HNToan[9.6]\n",
    "sumHGToan/sumHNToan"
   ]
  },
  {
   "cell_type": "markdown",
   "metadata": {},
   "source": [
    "Phần trăm điểm toán trên 9 điểm ở cụm thi Hà Giang cao gấp 17 lần so với phần trăm điểm toán trên 9 điểm của cụm thi Hà Nội!"
   ]
  },
  {
   "cell_type": "markdown",
   "metadata": {},
   "source": [
    "Ta thử vẽ biểu đồ:"
   ]
  },
  {
   "cell_type": "code",
   "execution_count": 134,
   "metadata": {},
   "outputs": [
    {
     "data": {
      "text/plain": [
       "0.0     0.006843\n",
       "0.8     0.000038\n",
       "1.0     0.000038\n",
       "1.2     0.000179\n",
       "1.4     0.000384\n",
       "1.6     0.000423\n",
       "1.8     0.000859\n",
       "2.0     0.001371\n",
       "2.2     0.002307\n",
       "2.4     0.002601\n",
       "2.6     0.004600\n",
       "2.8     0.006420\n",
       "3.0     0.007984\n",
       "3.2     0.010905\n",
       "3.4     0.014570\n",
       "3.6     0.019222\n",
       "3.8     0.024156\n",
       "4.0     0.028782\n",
       "4.2     0.035010\n",
       "4.4     0.042007\n",
       "4.6     0.047210\n",
       "4.8     0.054104\n",
       "5.0     0.060921\n",
       "5.2     0.065304\n",
       "5.4     0.067867\n",
       "5.6     0.069751\n",
       "5.8     0.068943\n",
       "6.0     0.065958\n",
       "6.2     0.059281\n",
       "6.4     0.051567\n",
       "6.6     0.043916\n",
       "6.8     0.037240\n",
       "7.0     0.027693\n",
       "7.2     0.021965\n",
       "7.4     0.016275\n",
       "7.6     0.012020\n",
       "7.8     0.008688\n",
       "8.0     0.005472\n",
       "8.2     0.003306\n",
       "8.4     0.001922\n",
       "8.6     0.001038\n",
       "8.8     0.000449\n",
       "9.0     0.000231\n",
       "9.2     0.000077\n",
       "9.4     0.000077\n",
       "9.6     0.000013\n",
       "10.0    0.000013\n",
       "Name: TOÁN, dtype: float64"
      ]
     },
     "execution_count": 134,
     "metadata": {},
     "output_type": "execute_result"
    }
   ],
   "source": [
    "ttt = findPercentScoreHighgerThan(df_HCM,9,'TOÁN')\n",
    "ttt"
   ]
  },
  {
   "cell_type": "markdown",
   "metadata": {},
   "source": [
    "Idea: \n",
    "\n",
    "x: HG, HN, HCM, All\n",
    "\n",
    "y: 0 -> 100"
   ]
  },
  {
   "cell_type": "code",
   "execution_count": 130,
   "metadata": {},
   "outputs": [
    {
     "data": {
      "text/plain": [
       "78805"
      ]
     },
     "execution_count": 130,
     "metadata": {},
     "output_type": "execute_result"
    }
   ],
   "source": [
    "df_HaNoi['TOÁN'].count()"
   ]
  },
  {
   "cell_type": "code",
   "execution_count": null,
   "metadata": {},
   "outputs": [],
   "source": [
    "\n",
    "# g = sns.catplot(x=\"CUM\", y=\"survived\", col=\"class\",\n",
    "#                  data=titanic, saturation=.5,\n",
    "#                  kind=\"bar\", ci=None, aspect=.6)\n",
    "\n",
    "# for ax in g.axes.flat:\n",
    "#     ax.yaxis.set_major_formatter(PercentFormatter(1))\n",
    "# plt.show()"
   ]
  },
  {
   "cell_type": "code",
   "execution_count": 129,
   "metadata": {},
   "outputs": [],
   "source": [
    "\n",
    "# sns.barplot(y= \"TOÁN\", palette=\"ch:.25\", data=df_HaNoi, estimator=lambda x: sum(x>=9)*100.0/len(x))"
   ]
  },
  {
   "cell_type": "code",
   "execution_count": 131,
   "metadata": {},
   "outputs": [
    {
     "data": {
      "text/plain": [
       "<AxesSubplot:xlabel='CỤM', ylabel='TOÁN'>"
      ]
     },
     "execution_count": 131,
     "metadata": {},
     "output_type": "execute_result"
    },
    {
     "data": {
      "image/png": "[encoded data removed]",
      "text/plain": [
       "<Figure size 432x288 with 1 Axes>"
      ]
     },
     "metadata": {},
     "output_type": "display_data"
    }
   ],
   "source": [
    "\n",
    "sns.barplot(x=\"CỤM\", y= \"TOÁN\", palette=\"ch:.25\", data=df[:78805], estimator=lambda x: sum(x>=9)*100.0/len(x))"
   ]
  },
  {
   "cell_type": "code",
   "execution_count": 45,
   "metadata": {},
   "outputs": [
    {
     "data": {
      "text/plain": [
       "<seaborn.axisgrid.FacetGrid at 0x20c25230ac0>"
      ]
     },
     "execution_count": 45,
     "metadata": {},
     "output_type": "execute_result"
    },
    {
     "data": {
      "image/png": "[encoded data removed]",
      "text/plain": [
       "<Figure size 360x360 with 1 Axes>"
      ]
     },
     "metadata": {},
     "output_type": "display_data"
    }
   ],
   "source": [
    "sns.catplot(x='TOÁN', kind=\"count\",palette=\"ch:.25\", data=df_HaGiang)"
   ]
  },
  {
   "cell_type": "code",
   "execution_count": 120,
   "metadata": {},
   "outputs": [],
   "source": [
    "# g = sns.relplot(\n",
    "#     data=df, kind=\"bar\",\n",
    "#     x=\"CỤM\", y=\"TOÁN\", col=\"CỤM\",\n",
    "# #     hue=\"choice\", size=\"coherence\", style=\"choice\",\n",
    "# #     facet_kws=dict(sharex=False),\n",
    "# )\n",
    "# g.fig.set_size_inches(6.5, 4.5)\n",
    "# g.ax.margins(.15)\n",
    "# g.despine(trim=True)"
   ]
  }
 ],
 "metadata": {
  "kernelspec": {
   "display_name": "Python 3",
   "language": "python",
   "name": "python3"
  },
  "language_info": {
   "codemirror_mode": {
    "name": "ipython",
    "version": 3
   },
   "file_extension": ".py",
   "mimetype": "text/x-python",
   "name": "python",
   "nbconvert_exporter": "python",
   "pygments_lexer": "ipython3",
   "version": "3.8.5"
  }
 },
 "nbformat": 4,
 "nbformat_minor": 4
}
